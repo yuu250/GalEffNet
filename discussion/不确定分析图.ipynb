{
 "cells": [
  {
   "cell_type": "code",
   "execution_count": 1,
   "id": "afb4fef7",
   "metadata": {},
   "outputs": [],
   "source": [
    "import cv2\n",
    "import matplotlib.pyplot as plt\n",
    "import numpy as np\n",
    "import pandas as pd\n",
    "import h5py\n",
    "import math\n",
    "import seaborn as sns\n",
    "\n",
    "import to_rgb"
   ]
  },
  {
   "cell_type": "code",
   "execution_count": 2,
   "id": "5c5e5a86",
   "metadata": {},
   "outputs": [
    {
     "data": {
      "text/plain": [
       "30000"
      ]
     },
     "execution_count": 2,
     "metadata": {},
     "output_type": "execute_result"
    }
   ],
   "source": [
    "df = pd.read_csv('10轮.csv')\n",
    "len(df)"
   ]
  },
  {
   "cell_type": "markdown",
   "id": "dd1b0075",
   "metadata": {},
   "source": [
    "## lgm"
   ]
  },
  {
   "cell_type": "code",
   "execution_count": 3,
   "id": "50851af4",
   "metadata": {},
   "outputs": [],
   "source": [
    "# 定义区间和间隔\n",
    "start = 7.5\n",
    "end = 11.5\n",
    "interval = 0.5\n",
    "\n",
    "# 创建区间范围\n",
    "bins = np.arange(start, end + interval, interval)\n",
    "\n",
    "# 根据10轮预测值的均值 划分样本区间\n",
    "df['lgm_bin'] = pd.cut(df['lgm_mean'], bins=bins)"
   ]
  },
  {
   "cell_type": "code",
   "execution_count": 4,
   "id": "1b1fec41",
   "metadata": {},
   "outputs": [
    {
     "name": "stdout",
     "output_type": "stream",
     "text": [
      "(7.5, 8.0]         53\n",
      "(8.0, 8.5]        303\n",
      "(8.5, 9.0]        876\n",
      "(9.0, 9.5]       2505\n",
      "(9.5, 10.0]      5813\n",
      "(10.0, 10.5]    11295\n",
      "(10.5, 11.0]     7017\n",
      "(11.0, 11.5]     2138\n",
      "Name: lgm_bin, dtype: int64\n"
     ]
    }
   ],
   "source": [
    "# 统计各区间的数量\n",
    "counts = df['lgm_bin'].value_counts().sort_index()\n",
    "\n",
    "# 输出结果\n",
    "print(counts)"
   ]
  },
  {
   "cell_type": "code",
   "execution_count": 5,
   "id": "3e529c46",
   "metadata": {},
   "outputs": [
    {
     "name": "stdout",
     "output_type": "stream",
     "text": [
      "0        0.079068\n",
      "1        0.069225\n",
      "2        0.108964\n",
      "3        0.049793\n",
      "4        0.054210\n",
      "           ...   \n",
      "29995    0.090279\n",
      "29996    0.079116\n",
      "29997    0.054915\n",
      "29998    0.130543\n",
      "29999    0.074701\n",
      "Name: row_std, Length: 30000, dtype: float64\n"
     ]
    }
   ],
   "source": [
    "# 选择列\n",
    "columns = ['lgm_1', 'lgm_2', 'lgm_3', 'lgm_4', 'lgm_5', 'lgm_6', 'lgm_7', 'lgm_8', 'lgm_9', 'lgm_10']\n",
    "\n",
    "# 定义一个函数来计算每个样本的标准差\n",
    "def row_std(row):\n",
    "    return row[columns].std()\n",
    "\n",
    "# 计算每一行样本的标准差\n",
    "df['row_std'] = df.apply(row_std, axis=1)\n",
    "\n",
    "# 输出结果\n",
    "print(df['row_std'])"
   ]
  },
  {
   "cell_type": "code",
   "execution_count": 6,
   "id": "1fda87d8",
   "metadata": {},
   "outputs": [
    {
     "name": "stdout",
     "output_type": "stream",
     "text": [
      "区间 (7.5, 8.0] 的均值为: 0.08744700738143911\n",
      "区间 (8.0, 8.5] 的均值为: 0.10818525269714013\n",
      "区间 (8.5, 9.0] 的均值为: 0.09064539434938346\n",
      "区间 (9.0, 9.5] 的均值为: 0.06934340486798932\n",
      "区间 (9.5, 10.0] 的均值为: 0.06429041145089028\n",
      "区间 (10.0, 10.5] 的均值为: 0.06040049745539488\n",
      "区间 (10.5, 11.0] 的均值为: 0.06271385598036097\n",
      "区间 (11.0, 11.5] 的均值为: 0.07269174952026702\n"
     ]
    },
    {
     "name": "stderr",
     "output_type": "stream",
     "text": [
      "E:\\Temp\\ipykernel_3484\\4213207258.py:7: FutureWarning: iteritems is deprecated and will be removed in a future version. Use .items instead.\n",
      "  for name, mean_dev in mean_std_lgm.iteritems():\n"
     ]
    },
    {
     "data": {
      "text/plain": [
       "[0.08744700738143911,\n",
       " 0.10818525269714013,\n",
       " 0.09064539434938346,\n",
       " 0.06934340486798932,\n",
       " 0.06429041145089028,\n",
       " 0.06040049745539488,\n",
       " 0.06271385598036097,\n",
       " 0.07269174952026702]"
      ]
     },
     "execution_count": 6,
     "metadata": {},
     "output_type": "execute_result"
    }
   ],
   "source": [
    "# 按照 'lgm_bin' 划分的区间，计算标准差的均值\n",
    "mean_std_lgm = df.groupby('lgm_bin')['row_std'].mean()\n",
    "\n",
    "# 存储mean_std_lgm的值\n",
    "mean_std_lgm_values = []\n",
    "\n",
    "for name, mean_dev in mean_std_lgm.iteritems():\n",
    "    print(f'区间 {name} 的均值为: {mean_dev}')\n",
    "    mean_std_lgm_values.append(mean_dev)\n",
    "\n",
    "# 包含了每个区间样本的 标准差的均值\n",
    "mean_std_lgm_values"
   ]
  },
  {
   "cell_type": "code",
   "execution_count": 7,
   "id": "98ca08e1",
   "metadata": {},
   "outputs": [
    {
     "name": "stdout",
     "output_type": "stream",
     "text": [
      "区间 (7.5, 8.0] 的标准差为: 0.03465246469809836\n",
      "区间 (8.0, 8.5] 的标准差为: 0.03935763136904088\n",
      "区间 (8.5, 9.0] 的标准差为: 0.039725916654405405\n",
      "区间 (9.0, 9.5] 的标准差为: 0.03280368764644353\n",
      "区间 (9.5, 10.0] 的标准差为: 0.025869321407139052\n",
      "区间 (10.0, 10.5] 的标准差为: 0.019572698019444643\n",
      "区间 (10.5, 11.0] 的标准差为: 0.016572578996880888\n",
      "区间 (11.0, 11.5] 的标准差为: 0.018301429663937215\n"
     ]
    },
    {
     "name": "stderr",
     "output_type": "stream",
     "text": [
      "E:\\Temp\\ipykernel_3484\\2033690314.py:7: FutureWarning: iteritems is deprecated and will be removed in a future version. Use .items instead.\n",
      "  for name, std_dev in std_std_lgm.iteritems():\n"
     ]
    },
    {
     "data": {
      "text/plain": [
       "[0.03465246469809836,\n",
       " 0.03935763136904088,\n",
       " 0.039725916654405405,\n",
       " 0.03280368764644353,\n",
       " 0.025869321407139052,\n",
       " 0.019572698019444643,\n",
       " 0.016572578996880888,\n",
       " 0.018301429663937215]"
      ]
     },
     "execution_count": 7,
     "metadata": {},
     "output_type": "execute_result"
    }
   ],
   "source": [
    "# 按照 'lgm_bin' 划分的区间，计算标准差的标准差\n",
    "std_std_lgm = df.groupby('lgm_bin')['row_std'].std()\n",
    "\n",
    "# 存储std_std_lgm的值\n",
    "std_std_lgm_values = []\n",
    "\n",
    "for name, std_dev in std_std_lgm.iteritems():\n",
    "    print(f'区间 {name} 的标准差为: {std_dev}')\n",
    "    std_std_lgm_values.append(std_dev)\n",
    "\n",
    "# 包含了每个区间样本的 标准差的标准差\n",
    "std_std_lgm_values"
   ]
  },
  {
   "cell_type": "code",
   "execution_count": 8,
   "id": "0ca2b99c",
   "metadata": {},
   "outputs": [
    {
     "data": {
      "text/plain": [
       "0.028356966056923748"
      ]
     },
     "execution_count": 8,
     "metadata": {},
     "output_type": "execute_result"
    }
   ],
   "source": [
    "# 计算所有样本的 标准差的标准差\n",
    "mean_tmp=np.mean(std_std_lgm_values)\n",
    "mean_tmp"
   ]
  },
  {
   "cell_type": "code",
   "execution_count": 9,
   "id": "a5fa721b",
   "metadata": {},
   "outputs": [
    {
     "data": {
      "image/png": "[encoded data removed]",
      "text/plain": [
       "<Figure size 640x480 with 1 Axes>"
      ]
     },
     "metadata": {},
     "output_type": "display_data"
    }
   ],
   "source": [
    "# x坐标\n",
    "x = [7.75, 8.25, 8.75, 9.25, 9.75, 10.25, 10.75, 11.25]\n",
    "\n",
    "# y坐标和误差\n",
    "y = mean_std_lgm_values\n",
    "y_err = std_std_lgm_values\n",
    "\n",
    "# 绘制误差棒图\n",
    "# plt.errorbar(x, y, yerr=y_err, fmt='o--', capsize=5, color='k', label='1$\\sigma$')\n",
    "plt.errorbar(x, y, yerr=y_err, fmt='o--', capsize=5, color='k')\n",
    "\n",
    "# 添加标签和标题\n",
    "plt.xlabel(r'$\\log(M_\\star/M_\\odot)$', fontsize=13)\n",
    "plt.ylabel(r'$\\sigma(M_\\star)$', fontsize=13)\n",
    "\n",
    "\n",
    "x_ticks = [7.5, 8, 8.5, 9, 9.5, 10, 10.5, 11, 11.5]\n",
    "plt.xticks(x_ticks)\n",
    "\n",
    "# 显示图例\n",
    "# plt.legend(fontsize=13)\n",
    "\n",
    "# plt.savefig('uncertainty_lgm.pdf', bbox_inches='tight')\n",
    "\n",
    "# 显示图像\n",
    "plt.show()"
   ]
  },
  {
   "cell_type": "markdown",
   "id": "d802f25e",
   "metadata": {},
   "source": [
    "## SSFR"
   ]
  },
  {
   "cell_type": "code",
   "execution_count": 10,
   "id": "e24892b9",
   "metadata": {},
   "outputs": [],
   "source": [
    "# 定义区间和间隔\n",
    "start = -12.5\n",
    "end = -8\n",
    "interval = 0.5\n",
    "\n",
    "# 创建区间范围\n",
    "bins = np.arange(start, end + interval, interval)\n",
    "\n",
    "# 根据10轮预测值的均值 划分样本区间\n",
    "df['ssfr_bin'] = pd.cut(df['ssfr_mean'], bins=bins)"
   ]
  },
  {
   "cell_type": "code",
   "execution_count": 11,
   "id": "35a947f6",
   "metadata": {},
   "outputs": [
    {
     "name": "stdout",
     "output_type": "stream",
     "text": [
      "(-12.5, -12.0]    9032\n",
      "(-12.0, -11.5]    5916\n",
      "(-11.5, -11.0]    2444\n",
      "(-11.0, -10.5]    2206\n",
      "(-10.5, -10.0]    3213\n",
      "(-10.0, -9.5]     4795\n",
      "(-9.5, -9.0]      2082\n",
      "(-9.0, -8.5]       302\n",
      "(-8.5, -8.0]        10\n",
      "Name: ssfr_bin, dtype: int64\n"
     ]
    }
   ],
   "source": [
    "# 统计各区间的数量\n",
    "counts = df['ssfr_bin'].value_counts().sort_index()\n",
    "\n",
    "# 输出结果\n",
    "print(counts)"
   ]
  },
  {
   "cell_type": "code",
   "execution_count": 12,
   "id": "77ba3d49",
   "metadata": {},
   "outputs": [
    {
     "name": "stdout",
     "output_type": "stream",
     "text": [
      "0        0.108197\n",
      "1        0.275258\n",
      "2        0.233073\n",
      "3        0.255432\n",
      "4        0.038691\n",
      "           ...   \n",
      "29995    0.104053\n",
      "29996    0.273403\n",
      "29997    0.083351\n",
      "29998    0.117482\n",
      "29999    0.173139\n",
      "Name: row_std, Length: 30000, dtype: float64\n"
     ]
    }
   ],
   "source": [
    "# 选择列\n",
    "columns = ['ssfr_1', 'ssfr_2', 'ssfr_3', 'ssfr_4', 'ssfr_5', 'ssfr_6', 'ssfr_7', 'ssfr_8', 'ssfr_9', 'ssfr_10']\n",
    "\n",
    "# 定义一个函数来计算每行的标准差\n",
    "def row_std(row):\n",
    "    return row[columns].std()\n",
    "\n",
    "# 计算每一行样本的标准差\n",
    "df['row_std'] = df.apply(row_std, axis=1)\n",
    "\n",
    "# 输出结果\n",
    "print(df['row_std'])"
   ]
  },
  {
   "cell_type": "code",
   "execution_count": 13,
   "id": "2c58826e",
   "metadata": {},
   "outputs": [
    {
     "name": "stderr",
     "output_type": "stream",
     "text": [
      "E:\\Temp\\ipykernel_3484\\3280636561.py:7: FutureWarning: iteritems is deprecated and will be removed in a future version. Use .items instead.\n",
      "  for name, mean_dev in mean_std_ssfr.iteritems():\n"
     ]
    },
    {
     "data": {
      "text/plain": [
       "[0.04035331638634728,\n",
       " 0.07617261618530956,\n",
       " 0.13147285907670148,\n",
       " 0.13243195851248737,\n",
       " 0.10690831983467662,\n",
       " 0.09877639026420142,\n",
       " 0.10811338354407479,\n",
       " 0.12748480572259102,\n",
       " 0.16089774383677272]"
      ]
     },
     "execution_count": 13,
     "metadata": {},
     "output_type": "execute_result"
    }
   ],
   "source": [
    "# 按照 'ssfr_bin' 划分的区间，计算标准差的均值\n",
    "mean_std_ssfr = df.groupby('ssfr_bin')['row_std'].mean()\n",
    "\n",
    "# 存储mean_std_lgm的值\n",
    "mean_std_ssfr_values = []\n",
    "\n",
    "for name, mean_dev in mean_std_ssfr.iteritems():\n",
    "    mean_std_ssfr_values.append(mean_dev)\n",
    "\n",
    "# 包含了每个区间样本的 标准差的均值\n",
    "mean_std_ssfr_values"
   ]
  },
  {
   "cell_type": "code",
   "execution_count": 14,
   "id": "7bbdf068",
   "metadata": {},
   "outputs": [
    {
     "name": "stderr",
     "output_type": "stream",
     "text": [
      "E:\\Temp\\ipykernel_3484\\2225219899.py:7: FutureWarning: iteritems is deprecated and will be removed in a future version. Use .items instead.\n",
      "  for name, std_dev in std_std_ssfr.iteritems():\n"
     ]
    },
    {
     "data": {
      "text/plain": [
       "[0.017986570505539385,\n",
       " 0.04509233144571849,\n",
       " 0.06414239566471917,\n",
       " 0.0688685504172138,\n",
       " 0.056159447846829365,\n",
       " 0.03807289396566239,\n",
       " 0.033488459692007214,\n",
       " 0.036720002437026396,\n",
       " 0.03042607187023362]"
      ]
     },
     "execution_count": 14,
     "metadata": {},
     "output_type": "execute_result"
    }
   ],
   "source": [
    "# 按照 'ssfr_bin' 划分的区间，计算标准差的标准差\n",
    "std_std_ssfr = df.groupby('ssfr_bin')['row_std'].std()\n",
    "\n",
    "# 存储std_std_ssfr的值\n",
    "std_std_ssfr_values = []\n",
    "\n",
    "for name, std_dev in std_std_ssfr.iteritems():\n",
    "    std_std_ssfr_values.append(std_dev)\n",
    "\n",
    "# 包含了每个区间样本的 标准差的标准差\n",
    "std_std_ssfr_values"
   ]
  },
  {
   "cell_type": "code",
   "execution_count": 15,
   "id": "a1d1edd0",
   "metadata": {},
   "outputs": [
    {
     "data": {
      "text/plain": [
       "0.0434396359827722"
      ]
     },
     "execution_count": 15,
     "metadata": {},
     "output_type": "execute_result"
    }
   ],
   "source": [
    "# 计算所有样本的 标准差的标准差\n",
    "mean_tmp=np.mean(std_std_ssfr_values)\n",
    "mean_tmp"
   ]
  },
  {
   "cell_type": "code",
   "execution_count": 16,
   "id": "d45de173",
   "metadata": {},
   "outputs": [
    {
     "data": {
      "image/png": "[encoded data removed]",
      "text/plain": [
       "<Figure size 640x480 with 1 Axes>"
      ]
     },
     "metadata": {},
     "output_type": "display_data"
    }
   ],
   "source": [
    "# x坐标\n",
    "x = [-12.25, -11.75, -11.25, -10.75, -10.25, -9.75, -9.25, -8.75, -8.25]\n",
    "\n",
    "# y坐标和误差\n",
    "y = mean_std_ssfr_values\n",
    "y_err = std_std_ssfr_values\n",
    "\n",
    "# 绘制误差棒图\n",
    "plt.errorbar(x, y, yerr=y_err, fmt='o--', capsize=5, color='k')#, label='1$\\sigma$')\n",
    "\n",
    "# 添加标签和标题\n",
    "plt.xlabel(r'log(sSFR/$\\mathrm{yr}^{-1})$', fontsize=13)\n",
    "plt.ylabel(r'$\\sigma$(sSFR)', fontsize=13)\n",
    "\n",
    "\n",
    "x_ticks = [-12.5, -12, -11.5, -11, -10.5, -10, -9.5, -9, -8.5, -8]\n",
    "plt.xticks(x_ticks)\n",
    "# 显示图例\n",
    "# plt.legend(fontsize=13)\n",
    "\n",
    "# plt.savefig('uncertainty_ssfr.pdf', bbox_inches='tight')\n",
    "\n",
    "# 显示图像\n",
    "plt.show()"
   ]
  },
  {
   "cell_type": "code",
   "execution_count": null,
   "id": "1f2af170",
   "metadata": {},
   "outputs": [],
   "source": []
  }
 ],
 "metadata": {
  "kernelspec": {
   "display_name": "pytorch",
   "language": "python",
   "name": "pytorch"
  },
  "language_info": {
   "codemirror_mode": {
    "name": "ipython",
    "version": 3
   },
   "file_extension": ".py",
   "mimetype": "text/x-python",
   "name": "python",
   "nbconvert_exporter": "python",
   "pygments_lexer": "ipython3",
   "version": "3.9.15"
  }
 },
 "nbformat": 4,
 "nbformat_minor": 5
}
