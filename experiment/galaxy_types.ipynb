{
 "cells": [
  {
   "cell_type": "markdown",
   "metadata": {},
   "source": [
    "### 分别计算不同类型"
   ]
  },
  {
   "cell_type": "code",
   "execution_count": 1,
   "metadata": {},
   "outputs": [],
   "source": [
    "import pandas as pd \n",
    "df = pd.read_csv('data/test_3w.csv') \n",
    "\n",
    "# 统计每种类型的数量\n",
    "source_type_counts = df['source_type'].value_counts()\n",
    "\n",
    "# 根据类型划分数据\n",
    "for source_type, count in source_type_counts.items():\n",
    "    # 选择特定类型的数据\n",
    "    subset = df[df['source_type'] == source_type]\n",
    "\n",
    "    # 去掉类型名中的单引号和双引号，并将空格替换为下划线\n",
    "    source_type_cleaned = source_type.replace(\"'\", \"\").replace('\"', '').replace(' ', '_')\n",
    "\n",
    "    # 将数据保存到 CSV 文件\n",
    "    subset.to_csv(f'data/{source_type_cleaned}_test.csv', index=False)"
   ]
  },
  {
   "cell_type": "code",
   "execution_count": 2,
   "metadata": {},
   "outputs": [],
   "source": [
    "import numpy as np\n",
    "\n",
    "\"\"\"\n",
    "Transformation from raw image data (nanomaggies) to the rgb values displayed\n",
    "at the legacy viewer https://www.legacysurvey.org/viewer\n",
    "\n",
    "Code copied from\n",
    "https://github.com/legacysurvey/imagine/blob/master/map/views.py\n",
    "\"\"\"\n",
    "\n",
    "def sdss_rgb(imgs, bands, scales=None,\n",
    "             m = 0.02):\n",
    "    import numpy as np\n",
    "    rgbscales = {'u': (2,1.5), #1.0,\n",
    "                 'g': (2,2.5),\n",
    "                 'r': (1,1.5),\n",
    "                 'i': (0,1.0),\n",
    "                 'z': (0,0.4), #0.3\n",
    "                 }\n",
    "    if scales is not None:\n",
    "        rgbscales.update(scales)\n",
    "\n",
    "    I = 0\n",
    "    for img,band in zip(imgs, bands):\n",
    "        plane,scale = rgbscales[band]\n",
    "        img = np.maximum(0, img * scale + m)\n",
    "        I = I + img\n",
    "    I /= len(bands)\n",
    "        \n",
    "    # b,g,r = [rimg * rgbscales[b] for rimg,b in zip(imgs, bands)]\n",
    "    # r = np.maximum(0, r + m)\n",
    "    # g = np.maximum(0, g + m)\n",
    "    # b = np.maximum(0, b + m)\n",
    "    # I = (r+g+b)/3.\n",
    "    Q = 20\n",
    "    fI = np.arcsinh(Q * I) / np.sqrt(Q)\n",
    "    I += (I == 0.) * 1e-6\n",
    "    H,W = I.shape\n",
    "    rgb = np.zeros((H,W,3), np.float32)\n",
    "    for img,band in zip(imgs, bands):\n",
    "        plane,scale = rgbscales[band]\n",
    "        rgb[:,:,plane] = (img * scale + m) * fI / I\n",
    "\n",
    "    # R = fI * r / I\n",
    "    # G = fI * g / I\n",
    "    # B = fI * b / I\n",
    "    # # maxrgb = reduce(np.maximum, [R,G,B])\n",
    "    # # J = (maxrgb > 1.)\n",
    "    # # R[J] = R[J]/maxrgb[J]\n",
    "    # # G[J] = G[J]/maxrgb[J]\n",
    "    # # B[J] = B[J]/maxrgb[J]\n",
    "    # rgb = np.dstack((R,G,B))\n",
    "    rgb = np.clip(rgb, 0, 1)\n",
    "    return rgb\n",
    "\n",
    "def dr2_rgb(rimgs, bands, **ignored):\n",
    "    return sdss_rgb(rimgs, bands, scales=dict(g=(2,6.0), r=(1,3.4), z=(0,2.2)), m=0.03)\n",
    "\n"
   ]
  },
  {
   "cell_type": "markdown",
   "metadata": {},
   "source": [
    "#### DEV"
   ]
  },
  {
   "cell_type": "code",
   "execution_count": 3,
   "metadata": {},
   "outputs": [
    {
     "data": {
      "text/html": [
       "<div>\n",
       "<style scoped>\n",
       "    .dataframe tbody tr th:only-of-type {\n",
       "        vertical-align: middle;\n",
       "    }\n",
       "\n",
       "    .dataframe tbody tr th {\n",
       "        vertical-align: top;\n",
       "    }\n",
       "\n",
       "    .dataframe thead th {\n",
       "        text-align: right;\n",
       "    }\n",
       "</style>\n",
       "<table border=\"1\" class=\"dataframe\">\n",
       "  <thead>\n",
       "    <tr style=\"text-align: right;\">\n",
       "      <th></th>\n",
       "      <th>sfr_fib_p50</th>\n",
       "      <th>lgm_fib_p50</th>\n",
       "      <th>ra_1</th>\n",
       "      <th>dec_1</th>\n",
       "      <th>img</th>\n",
       "    </tr>\n",
       "  </thead>\n",
       "  <tbody>\n",
       "    <tr>\n",
       "      <th>0</th>\n",
       "      <td>-10.784290</td>\n",
       "      <td>9.476273</td>\n",
       "      <td>118.660250</td>\n",
       "      <td>42.544100</td>\n",
       "      <td>[[[0.12719311, 0.12719311, 0.12719311], [0.127...</td>\n",
       "    </tr>\n",
       "    <tr>\n",
       "      <th>1</th>\n",
       "      <td>-11.949470</td>\n",
       "      <td>10.525820</td>\n",
       "      <td>218.220610</td>\n",
       "      <td>40.679325</td>\n",
       "      <td>[[[0.12719311, 0.12719311, 0.12719311], [0.127...</td>\n",
       "    </tr>\n",
       "    <tr>\n",
       "      <th>2</th>\n",
       "      <td>-10.758330</td>\n",
       "      <td>9.350916</td>\n",
       "      <td>121.988280</td>\n",
       "      <td>34.227340</td>\n",
       "      <td>[[[0.12719311, 0.12719311, 0.12719311], [0.127...</td>\n",
       "    </tr>\n",
       "    <tr>\n",
       "      <th>3</th>\n",
       "      <td>-11.876140</td>\n",
       "      <td>10.196710</td>\n",
       "      <td>180.365540</td>\n",
       "      <td>38.300390</td>\n",
       "      <td>[[[0.12719311, 0.12719311, 0.12719311], [0.127...</td>\n",
       "    </tr>\n",
       "    <tr>\n",
       "      <th>4</th>\n",
       "      <td>-12.300000</td>\n",
       "      <td>10.159130</td>\n",
       "      <td>139.690190</td>\n",
       "      <td>53.750393</td>\n",
       "      <td>[[[0.12719311, 0.12719311, 0.12719311], [0.127...</td>\n",
       "    </tr>\n",
       "    <tr>\n",
       "      <th>...</th>\n",
       "      <td>...</td>\n",
       "      <td>...</td>\n",
       "      <td>...</td>\n",
       "      <td>...</td>\n",
       "      <td>...</td>\n",
       "    </tr>\n",
       "    <tr>\n",
       "      <th>29995</th>\n",
       "      <td>-8.690597</td>\n",
       "      <td>8.990757</td>\n",
       "      <td>53.742588</td>\n",
       "      <td>0.409686</td>\n",
       "      <td>[[[0.12719311, 0.12719311, 0.12719311], [0.127...</td>\n",
       "    </tr>\n",
       "    <tr>\n",
       "      <th>29996</th>\n",
       "      <td>-9.311631</td>\n",
       "      <td>10.022380</td>\n",
       "      <td>331.276400</td>\n",
       "      <td>-0.899441</td>\n",
       "      <td>[[[0.12719311, 0.12719311, 0.12719311], [0.127...</td>\n",
       "    </tr>\n",
       "    <tr>\n",
       "      <th>29997</th>\n",
       "      <td>-9.485988</td>\n",
       "      <td>9.682550</td>\n",
       "      <td>3.766888</td>\n",
       "      <td>1.002308</td>\n",
       "      <td>[[[0.12719311, 0.12719311, 0.12719311], [0.127...</td>\n",
       "    </tr>\n",
       "    <tr>\n",
       "      <th>29998</th>\n",
       "      <td>-9.200964</td>\n",
       "      <td>9.640602</td>\n",
       "      <td>346.954900</td>\n",
       "      <td>22.387688</td>\n",
       "      <td>[[[0.12719311, 0.12719311, 0.12719311], [0.127...</td>\n",
       "    </tr>\n",
       "    <tr>\n",
       "      <th>29999</th>\n",
       "      <td>-8.549999</td>\n",
       "      <td>9.760082</td>\n",
       "      <td>241.274500</td>\n",
       "      <td>17.447283</td>\n",
       "      <td>[[[0.12719311, 0.12719311, 0.12719311], [0.127...</td>\n",
       "    </tr>\n",
       "  </tbody>\n",
       "</table>\n",
       "<p>30000 rows × 5 columns</p>\n",
       "</div>"
      ],
      "text/plain": [
       "       sfr_fib_p50  lgm_fib_p50        ra_1      dec_1  \\\n",
       "0       -10.784290     9.476273  118.660250  42.544100   \n",
       "1       -11.949470    10.525820  218.220610  40.679325   \n",
       "2       -10.758330     9.350916  121.988280  34.227340   \n",
       "3       -11.876140    10.196710  180.365540  38.300390   \n",
       "4       -12.300000    10.159130  139.690190  53.750393   \n",
       "...            ...          ...         ...        ...   \n",
       "29995    -8.690597     8.990757   53.742588   0.409686   \n",
       "29996    -9.311631    10.022380  331.276400  -0.899441   \n",
       "29997    -9.485988     9.682550    3.766888   1.002308   \n",
       "29998    -9.200964     9.640602  346.954900  22.387688   \n",
       "29999    -8.549999     9.760082  241.274500  17.447283   \n",
       "\n",
       "                                                     img  \n",
       "0      [[[0.12719311, 0.12719311, 0.12719311], [0.127...  \n",
       "1      [[[0.12719311, 0.12719311, 0.12719311], [0.127...  \n",
       "2      [[[0.12719311, 0.12719311, 0.12719311], [0.127...  \n",
       "3      [[[0.12719311, 0.12719311, 0.12719311], [0.127...  \n",
       "4      [[[0.12719311, 0.12719311, 0.12719311], [0.127...  \n",
       "...                                                  ...  \n",
       "29995  [[[0.12719311, 0.12719311, 0.12719311], [0.127...  \n",
       "29996  [[[0.12719311, 0.12719311, 0.12719311], [0.127...  \n",
       "29997  [[[0.12719311, 0.12719311, 0.12719311], [0.127...  \n",
       "29998  [[[0.12719311, 0.12719311, 0.12719311], [0.127...  \n",
       "29999  [[[0.12719311, 0.12719311, 0.12719311], [0.127...  \n",
       "\n",
       "[30000 rows x 5 columns]"
      ]
     },
     "execution_count": 3,
     "metadata": {},
     "output_type": "execute_result"
    }
   ],
   "source": [
    "import h5py \n",
    "import numpy as np \n",
    "import pandas as pd \n",
    "\n",
    "file3=h5py.File('data/new_test_3w_old.h5','r')\n",
    "df3=pd.DataFrame({\n",
    "    'sfr_fib_p50':file3['specsfr_fib_p50'],\n",
    "    'lgm_fib_p50':file3['lgm_fib_p50'],\n",
    "    'ra_1':file3['ra_1'],\n",
    "    'dec_1':file3['dec_1']\n",
    "})\n",
    "\n",
    "img3=file3['processed_images']\n",
    "import matplotlib.pyplot as plt\n",
    "# 计算裁剪区域的左上角和右下角坐标\n",
    "original_length=152\n",
    "target_length=64\n",
    "left = (original_length - target_length) // 2\n",
    "top = (original_length - target_length) // 2\n",
    "right = left + target_length\n",
    "bottom = top + target_length\n",
    "cropped_images = []\n",
    "for image_array in img3:\n",
    "    # 裁剪并添加到裁剪后的图像数组\n",
    "    cropped_image = image_array[:, top:bottom, left:right]\n",
    "    cropped_images.append(cropped_image)\n",
    "\n",
    "\n",
    "img_rgb3=[dr2_rgb(i,['g','r','z'])  for i in cropped_images]\n",
    "\n",
    "image_merged=[]\n",
    "tmp_list=[]\n",
    "for i in range(len(img_rgb3)):\n",
    "    image_merged.append(img_rgb3[i])\n",
    "    tmp_list.append(i)\n",
    "        \n",
    "tmp_dict={'images':image_merged}\n",
    "df_01=pd.DataFrame(tmp_dict)\n",
    "df3['img']=df_01\n",
    "df3"
   ]
  },
  {
   "cell_type": "code",
   "execution_count": 4,
   "metadata": {},
   "outputs": [
    {
     "data": {
      "text/plain": [
       "30000"
      ]
     },
     "execution_count": 4,
     "metadata": {},
     "output_type": "execute_result"
    }
   ],
   "source": [
    "len(df3)"
   ]
  },
  {
   "cell_type": "code",
   "execution_count": 24,
   "metadata": {},
   "outputs": [
    {
     "data": {
      "text/plain": [
       "25437"
      ]
     },
     "execution_count": 24,
     "metadata": {},
     "output_type": "execute_result"
    }
   ],
   "source": [
    "df2=pd.read_csv('data/bbSER_test.csv')\n",
    "len(df2)"
   ]
  },
  {
   "cell_type": "code",
   "execution_count": 25,
   "metadata": {},
   "outputs": [
    {
     "data": {
      "text/plain": [
       "25437"
      ]
     },
     "execution_count": 25,
     "metadata": {},
     "output_type": "execute_result"
    }
   ],
   "source": [
    "DEV = df3[(df3.ra_1.isin(df2.ra_1)) & (df3.dec_1.isin(df2.dec_1))]\n",
    "len(DEV)"
   ]
  },
  {
   "cell_type": "code",
   "execution_count": 26,
   "metadata": {},
   "outputs": [
    {
     "name": "stdout",
     "output_type": "stream",
     "text": [
      "LGM的u是:-0.04220965968471125,sSFR的u是0.04739533138734913\n"
     ]
    }
   ],
   "source": [
    "result=pd.read_csv('/Users/yuu/Downloads/ml-dl/stardata/processed_images/result/SER_reuslt.csv')\n",
    "u_lgm=np.mean(np.array(DEV['lgm_fib_p50'])-np.array(result['lgm']))\n",
    "u_sfr=np.mean(np.array(DEV['sfr_fib_p50'])-np.array(result['sfr']))\n",
    "print(f'LGM的u是:{u_lgm},sSFR的u是{u_sfr}')"
   ]
  },
  {
   "cell_type": "code",
   "execution_count": 8,
   "metadata": {},
   "outputs": [],
   "source": [
    "## 把模型加载进来对不同分区分别进行预测\n",
    "import tensorflow as tf\n",
    "import tensorflow_hub as hub\n",
    "import numpy as np \n",
    "import pandas as pd \n",
    "import h5py "
   ]
  },
  {
   "cell_type": "code",
   "execution_count": 10,
   "metadata": {},
   "outputs": [],
   "source": [
    "## 把模型加载进来对不同分区分别进行预测\n",
    "import tensorflow as tf\n",
    "import tensorflow_hub as hub\n",
    "import numpy as np \n",
    "import pandas as pd \n",
    "import h5py \n",
    "\n",
    "# 自定义对象字典，用于告诉 TensorFlow 如何处理自定义层\n",
    "custom_objects = {'KerasLayer': hub.KerasLayer}\n",
    "\n",
    "# 更改一下path\n",
    "model_path = '/Users/yuu/Downloads/ml-dl/stardata/processed_images/test/ssfr_rmse_0.413_1kb3.h5'\n",
    "\n",
    "# 加载模型并传递自定义对象字典\n",
    "final_model = tf.keras.models.load_model(model_path,custom_objects)"
   ]
  },
  {
   "cell_type": "code",
   "execution_count": null,
   "metadata": {},
   "outputs": [],
   "source": [
    "### 这里得去定义一下归一化器 定义一下count_mae"
   ]
  },
  {
   "cell_type": "code",
   "execution_count": 11,
   "metadata": {},
   "outputs": [
    {
     "data": {
      "text/html": [
       "<style>#sk-container-id-1 {color: black;}#sk-container-id-1 pre{padding: 0;}#sk-container-id-1 div.sk-toggleable {background-color: white;}#sk-container-id-1 label.sk-toggleable__label {cursor: pointer;display: block;width: 100%;margin-bottom: 0;padding: 0.3em;box-sizing: border-box;text-align: center;}#sk-container-id-1 label.sk-toggleable__label-arrow:before {content: \"▸\";float: left;margin-right: 0.25em;color: #696969;}#sk-container-id-1 label.sk-toggleable__label-arrow:hover:before {color: black;}#sk-container-id-1 div.sk-estimator:hover label.sk-toggleable__label-arrow:before {color: black;}#sk-container-id-1 div.sk-toggleable__content {max-height: 0;max-width: 0;overflow: hidden;text-align: left;background-color: #f0f8ff;}#sk-container-id-1 div.sk-toggleable__content pre {margin: 0.2em;color: black;border-radius: 0.25em;background-color: #f0f8ff;}#sk-container-id-1 input.sk-toggleable__control:checked~div.sk-toggleable__content {max-height: 200px;max-width: 100%;overflow: auto;}#sk-container-id-1 input.sk-toggleable__control:checked~label.sk-toggleable__label-arrow:before {content: \"▾\";}#sk-container-id-1 div.sk-estimator input.sk-toggleable__control:checked~label.sk-toggleable__label {background-color: #d4ebff;}#sk-container-id-1 div.sk-label input.sk-toggleable__control:checked~label.sk-toggleable__label {background-color: #d4ebff;}#sk-container-id-1 input.sk-hidden--visually {border: 0;clip: rect(1px 1px 1px 1px);clip: rect(1px, 1px, 1px, 1px);height: 1px;margin: -1px;overflow: hidden;padding: 0;position: absolute;width: 1px;}#sk-container-id-1 div.sk-estimator {font-family: monospace;background-color: #f0f8ff;border: 1px dotted black;border-radius: 0.25em;box-sizing: border-box;margin-bottom: 0.5em;}#sk-container-id-1 div.sk-estimator:hover {background-color: #d4ebff;}#sk-container-id-1 div.sk-parallel-item::after {content: \"\";width: 100%;border-bottom: 1px solid gray;flex-grow: 1;}#sk-container-id-1 div.sk-label:hover label.sk-toggleable__label {background-color: #d4ebff;}#sk-container-id-1 div.sk-serial::before {content: \"\";position: absolute;border-left: 1px solid gray;box-sizing: border-box;top: 0;bottom: 0;left: 50%;z-index: 0;}#sk-container-id-1 div.sk-serial {display: flex;flex-direction: column;align-items: center;background-color: white;padding-right: 0.2em;padding-left: 0.2em;position: relative;}#sk-container-id-1 div.sk-item {position: relative;z-index: 1;}#sk-container-id-1 div.sk-parallel {display: flex;align-items: stretch;justify-content: center;background-color: white;position: relative;}#sk-container-id-1 div.sk-item::before, #sk-container-id-1 div.sk-parallel-item::before {content: \"\";position: absolute;border-left: 1px solid gray;box-sizing: border-box;top: 0;bottom: 0;left: 50%;z-index: -1;}#sk-container-id-1 div.sk-parallel-item {display: flex;flex-direction: column;z-index: 1;position: relative;background-color: white;}#sk-container-id-1 div.sk-parallel-item:first-child::after {align-self: flex-end;width: 50%;}#sk-container-id-1 div.sk-parallel-item:last-child::after {align-self: flex-start;width: 50%;}#sk-container-id-1 div.sk-parallel-item:only-child::after {width: 0;}#sk-container-id-1 div.sk-dashed-wrapped {border: 1px dashed gray;margin: 0 0.4em 0.5em 0.4em;box-sizing: border-box;padding-bottom: 0.4em;background-color: white;}#sk-container-id-1 div.sk-label label {font-family: monospace;font-weight: bold;display: inline-block;line-height: 1.2em;}#sk-container-id-1 div.sk-label-container {text-align: center;}#sk-container-id-1 div.sk-container {/* jupyter's `normalize.less` sets `[hidden] { display: none; }` but bootstrap.min.css set `[hidden] { display: none !important; }` so we also need the `!important` here to be able to override the default hidden behavior on the sphinx rendered scikit-learn.org. See: https://github.com/scikit-learn/scikit-learn/issues/21755 */display: inline-block !important;position: relative;}#sk-container-id-1 div.sk-text-repr-fallback {display: none;}</style><div id=\"sk-container-id-1\" class=\"sk-top-container\"><div class=\"sk-text-repr-fallback\"><pre>MinMaxScaler()</pre><b>In a Jupyter environment, please rerun this cell to show the HTML representation or trust the notebook. <br />On GitHub, the HTML representation is unable to render, please try loading this page with nbviewer.org.</b></div><div class=\"sk-container\" hidden><div class=\"sk-item\"><div class=\"sk-estimator sk-toggleable\"><input class=\"sk-toggleable__control sk-hidden--visually\" id=\"sk-estimator-id-1\" type=\"checkbox\" checked><label for=\"sk-estimator-id-1\" class=\"sk-toggleable__label sk-toggleable__label-arrow\">MinMaxScaler</label><div class=\"sk-toggleable__content\"><pre>MinMaxScaler()</pre></div></div></div></div></div>"
      ],
      "text/plain": [
       "MinMaxScaler()"
      ]
     },
     "execution_count": 11,
     "metadata": {},
     "output_type": "execute_result"
    }
   ],
   "source": [
    "import h5py\n",
    "\n",
    "file1=h5py.File('/Users/yuu/Downloads/ml-dl/stardata/processed_images/data/new_train_6w.h5','r')\n",
    "\n",
    "sfr1=file1['specsfr_fib_p50']\n",
    "lgm1=file1['lgm_fib_p50']\n",
    "\n",
    "from sklearn.preprocessing import MinMaxScaler\n",
    "#train sfr\n",
    "scaler_sfr_train=MinMaxScaler()\n",
    "scaler_sfr_1=np.array(sfr1).reshape(-1, 1)\n",
    "scaler_sfr_train.fit(scaler_sfr_1)\n",
    "#train lgm\n",
    "scaler_lgm_train=MinMaxScaler()\n",
    "scaler_lgm_1=np.array(lgm1).reshape(-1, 1)\n",
    "scaler_lgm_train.fit(scaler_lgm_1)"
   ]
  },
  {
   "cell_type": "code",
   "execution_count": 12,
   "metadata": {},
   "outputs": [
    {
     "data": {
      "text/plain": [
       "<KeysViewHDF5 ['GroupID', 'GroupSize', 'Separation', 'bptclass', 'brickid', 'cModelMag_r', 'circle_arc', 'circles_radius', 'col1', 'dec_1', 'dec_2', 'e_bv_sfd', 'ebv', 'fiberid', 'index', 'index_old', 'lgm_fib_p50', 'lgm_tot_p50', 'mjd', 'modelMag_r', 'objid', 'oh_p50', 'oval_distances', 'petroMag_g', 'petroMag_r', 'plateid', 'primtarget', 'processed_images', 'ra_1', 'ra_2', 'reliable', 'sectarget', 'sfr_fib_p50', 'sfr_tot_p50', 'snMedian_g', 'snMedian_r', 'sn_median', 'specObjID', 'specsfr_fib_p50', 'specsfr_tot_p50', 'v_disp', 'v_disp_err', 'z', 'z_err', 'z_spec', 'z_warning']>"
      ]
     },
     "execution_count": 12,
     "metadata": {},
     "output_type": "execute_result"
    }
   ],
   "source": [
    "file1.keys()"
   ]
  },
  {
   "cell_type": "code",
   "execution_count": 13,
   "metadata": {},
   "outputs": [],
   "source": [
    "def count_mae(n1,n2):\n",
    "    # 计算绝对差值\n",
    "    n1=np.array(n1)\n",
    "    n2=np.array(n2)\n",
    "    absolute_errors = np.abs(n1 - n2)\n",
    "\n",
    "    # 计算平均绝对误差（MAE）\n",
    "    mae = np.mean(absolute_errors)\n",
    "\n",
    "    print(\"MAE:\", mae)"
   ]
  },
  {
   "cell_type": "code",
   "execution_count": 14,
   "metadata": {},
   "outputs": [],
   "source": [
    "def predict_type(model,img,sfr_true,lgm_true,type_name):\n",
    "    y=final_model.predict(img)\n",
    "    y_df=pd.DataFrame()\n",
    "    y_df['lgm']=pd.DataFrame(y[0])\n",
    "    y_df['sfr']=pd.DataFrame(y[1])\n",
    "\n",
    "    sfr_true=np.array(sfr_true).reshape(-1, 1)\n",
    "    lgm_true=np.array(lgm_true).reshape(-1, 1)\n",
    "\n",
    "    lgm_pred=np.array(y_df['lgm']).reshape(-1, 1)\n",
    "    lgm_pred=scaler_lgm_train.inverse_transform(lgm_pred)\n",
    "\n",
    "    sfr_pred=np.array(y_df['sfr']).reshape(-1, 1)\n",
    "    sfr_pred=scaler_sfr_train.inverse_transform(sfr_pred)\n",
    "\n",
    "    print(\"MAE for lgm:\")\n",
    "    count_mae(lgm_true,lgm_pred)\n",
    "\n",
    "    mse = np.mean((np.array(lgm_true) - np.array(lgm_pred)) ** 2)\n",
    "    rmse=np.sqrt(mse)\n",
    "    sd = np.std(np.array(lgm_true) - np.array(lgm_pred))\n",
    "    print(f'LGM的MSE是:{mse},RMSE是{rmse},SD是{sd}')\n",
    "\n",
    "    print(\"MAE for sfr:\")\n",
    "    count_mae(sfr_true,sfr_pred)\n",
    "\n",
    "    mse = np.mean((np.array(sfr_true) - np.array(sfr_pred)) ** 2)\n",
    "    sd = np.std(np.array(sfr_true) - np.array(sfr_pred))\n",
    "    rmse=np.sqrt(mse)\n",
    "    print(f'SFR的MSE是:{mse},RMSE是{rmse},SD是{sd}')\n",
    "\n",
    "    def ll(real_values,predicted_values):\n",
    "        residuals = [real - predicted for real, predicted in zip(real_values, predicted_values)]\n",
    "\n",
    "        # 初始化异常值计数器\n",
    "        exception_count = 0\n",
    "\n",
    "        # 标记异常值\n",
    "        for residual in residuals:\n",
    "            if residual > 0.3 or residual < -0.3:\n",
    "                exception_count += 1\n",
    "\n",
    "        # 计算异常值的比例\n",
    "        total_count = len(residuals)\n",
    "        percentage_exception = (exception_count / total_count) \n",
    "\n",
    "        med = np.median(predicted_values-real_values)\n",
    "        print(f\"outlier:{percentage_exception},MED:{med}\")\n",
    "    \n",
    "    print(f\"SFR的{ll(sfr_true,sfr_pred)}\")\n",
    "    print(f\"LGM的{ll(lgm_true,lgm_pred)}\")\n",
    "    \n",
    "    import matplotlib.pyplot as plt\n",
    "    fig,ax=plt.subplots(1,2)\n",
    "    # 创建散点图\n",
    "    ax[0].scatter(lgm_true, lgm_pred, color='b', marker='o', label='True vs Predicted')\n",
    "\n",
    "    # 添加标签和标题\n",
    "    ax[0].set_xlabel('True Values')\n",
    "    ax[0].set_ylabel('Predicted Values')\n",
    "    ax[0].set_title('LGM True vs LGM Predicted Values')\n",
    "\n",
    "    # 添加1:1线\n",
    "    ax[0].plot([min(lgm_true), max(lgm_true)], [min(lgm_true), max(lgm_true)], color='red', linestyle='--', linewidth=2, label='1:1 Line')\n",
    "\n",
    "    ax[1].scatter(sfr_true, sfr_pred, color='b', marker='o', label='True vs Predicted')\n",
    "\n",
    "    # 添加标签和标题\n",
    "    ax[1].set_xlabel('True Values')\n",
    "    ax[1].set_ylabel('Predicted Values')\n",
    "    ax[1].set_title('SFR True vs SFR Predicted Values')\n",
    "\n",
    "    # 添加1:1线\n",
    "    ax[1].plot([min(sfr_true), max(sfr_true)], [min(sfr_true), max(sfr_true)], color='red', linestyle='--', linewidth=2, label='1:1 Line')\n",
    "\n",
    "\n",
    "    plt.subplots_adjust(wspace=0.5)  # 调整水平间距为0.5\n",
    "\n",
    "    # 显示图形\n",
    "    plt.show()\n",
    "\n",
    "\n",
    "    result=pd.DataFrame()\n",
    "    result['sfr']=pd.DataFrame(sfr_pred)\n",
    "    result['lgm']=pd.DataFrame(lgm_pred)\n",
    "    #result.to_csv(f'result/{type_name}_reuslt.csv',index=False)\n",
    "    "
   ]
  },
  {
   "cell_type": "markdown",
   "metadata": {},
   "source": [
    "#### DEV"
   ]
  },
  {
   "cell_type": "code",
   "execution_count": 19,
   "metadata": {},
   "outputs": [
    {
     "name": "stdout",
     "output_type": "stream",
     "text": [
      "61/61 [==============================] - 5s 75ms/step\n",
      "MAE for lgm:\n",
      "MAE: 0.11264523055383459\n",
      "LGM的MSE是:0.02625458535335588,RMSE是0.16203266754996007,SD是0.1611266528542296\n",
      "MAE for sfr:\n",
      "MAE: 0.30850619270403185\n",
      "SFR的MSE是:0.18023852028756848,RMSE是0.4245450745063102,SD是0.42109454734016555\n"
     ]
    },
    {
     "data": {
      "image/png": "[encoded data removed]",
      "text/plain": [
       "<Figure size 640x480 with 2 Axes>"
      ]
     },
     "metadata": {},
     "output_type": "display_data"
    }
   ],
   "source": [
    "tmp_list=[]\n",
    "for i in DEV['img']:\n",
    "    tmp_list.append(i)\n",
    "tmp_list=np.array(tmp_list)\n",
    "predict_type(final_model,tmp_list,DEV['sfr_fib_p50'],DEV['lgm_fib_p50'],'DEV')"
   ]
  },
  {
   "cell_type": "markdown",
   "metadata": {},
   "source": [
    "#### EXP  "
   ]
  },
  {
   "cell_type": "code",
   "execution_count": 22,
   "metadata": {},
   "outputs": [
    {
     "name": "stdout",
     "output_type": "stream",
     "text": [
      "15/15 [==============================] - 1s 69ms/step\n",
      "MAE for lgm:\n",
      "MAE: 0.21250936384783808\n",
      "LGM的MSE是:0.08510524728136842,RMSE是0.2917280365020963,SD是0.2779878872202975\n",
      "MAE for sfr:\n",
      "MAE: 0.24706465870465213\n",
      "SFR的MSE是:0.12755485314451553,RMSE是0.35714822293344195,SD是0.34735237016318216\n"
     ]
    },
    {
     "data": {
      "image/png": "[encoded data removed]",
      "text/plain": [
       "<Figure size 640x480 with 2 Axes>"
      ]
     },
     "metadata": {},
     "output_type": "display_data"
    }
   ],
   "source": [
    "tmp_list=[]\n",
    "for i in DEV['img']:\n",
    "    tmp_list.append(i)\n",
    "tmp_list=np.array(tmp_list)\n",
    "predict_type(final_model,tmp_list,DEV['sfr_fib_p50'],DEV['lgm_fib_p50'],'EXP')"
   ]
  },
  {
   "cell_type": "markdown",
   "metadata": {},
   "source": [
    "#### SER"
   ]
  },
  {
   "cell_type": "code",
   "execution_count": 25,
   "metadata": {},
   "outputs": [
    {
     "name": "stdout",
     "output_type": "stream",
     "text": [
      "795/795 [==============================] - 56s 71ms/step\n",
      "MAE for lgm:\n",
      "MAE: 0.14368733625746008\n",
      "LGM的MSE是:0.0471193579536776,RMSE是0.2170699379317127,SD是0.21292651953632774\n",
      "MAE for sfr:\n",
      "MAE: 0.2977088476062596\n",
      "SFR的MSE是:0.17421903191247634,RMSE是0.4173955341309683,SD是0.4146959302881413\n"
     ]
    },
    {
     "data": {
      "image/png": "[encoded data removed]",
      "text/plain": [
       "<Figure size 640x480 with 2 Axes>"
      ]
     },
     "metadata": {},
     "output_type": "display_data"
    }
   ],
   "source": [
    "tmp_list=[]\n",
    "for i in DEV['img']:\n",
    "    tmp_list.append(i)\n",
    "tmp_list=np.array(tmp_list)\n",
    "predict_type(final_model,tmp_list,DEV['sfr_fib_p50'],DEV['lgm_fib_p50'],'SER')"
   ]
  },
  {
   "cell_type": "markdown",
   "metadata": {},
   "source": [
    "#### REX"
   ]
  },
  {
   "cell_type": "code",
   "execution_count": 15,
   "metadata": {},
   "outputs": [
    {
     "name": "stderr",
     "output_type": "stream",
     "text": [
      "2023-10-25 12:45:26.368147: W tensorflow/tsl/platform/profile_utils/cpu_utils.cc:128] Failed to get CPU frequency: 0 Hz\n"
     ]
    },
    {
     "name": "stdout",
     "output_type": "stream",
     "text": [
      "68/68 [==============================] - 6s 72ms/step\n",
      "MAE for lgm:\n",
      "MAE: 0.20954613085004237\n",
      "LGM的MSE是:0.08683995861395961,RMSE是0.2946862036369528,SD是0.29008669757331346\n",
      "MAE for sfr:\n",
      "MAE: 0.261734149386867\n",
      "SFR的MSE是:0.1284662976559287,RMSE是0.35842195476271915,SD是0.3492415282331642\n"
     ]
    },
    {
     "data": {
      "image/png": "[encoded data removed]",
      "text/plain": [
       "<Figure size 640x480 with 2 Axes>"
      ]
     },
     "metadata": {},
     "output_type": "display_data"
    }
   ],
   "source": [
    "tmp_list=[]\n",
    "for i in DEV['img']:\n",
    "    tmp_list.append(i)\n",
    "tmp_list=np.array(tmp_list)\n",
    "predict_type(final_model,tmp_list,DEV['sfr_fib_p50'],DEV['lgm_fib_p50'],'REX')"
   ]
  },
  {
   "cell_type": "code",
   "execution_count": 27,
   "metadata": {},
   "outputs": [
    {
     "name": "stdout",
     "output_type": "stream",
     "text": [
      "795/795 [==============================] - 56s 70ms/step\n",
      "MAE for lgm:\n",
      "MAE: 0.14368733625746008\n",
      "LGM的MSE是:0.0471193579536776,RMSE是0.2170699379317127,SD是0.21292651953632774\n",
      "MAE for sfr:\n",
      "MAE: 0.2977088476062596\n",
      "SFR的MSE是:0.17421903191247634,RMSE是0.4173955341309683,SD是0.4146959302881413\n",
      "outlier:0.3617564964421905,MED:-0.01127912841796963\n",
      "SFR的None\n",
      "outlier:0.12245940952156308,MED:0.0221131323242183\n",
      "LGM的None\n"
     ]
    },
    {
     "data": {
      "image/png": "[encoded data removed]",
      "text/plain": [
       "<Figure size 640x480 with 2 Axes>"
      ]
     },
     "metadata": {},
     "output_type": "display_data"
    }
   ],
   "source": [
    "tmp_list=[]\n",
    "for i in DEV['img']:\n",
    "    tmp_list.append(i)\n",
    "tmp_list=np.array(tmp_list)\n",
    "predict_type(final_model,tmp_list,DEV['sfr_fib_p50'],DEV['lgm_fib_p50'],'EXP')"
   ]
  },
  {
   "cell_type": "code",
   "execution_count": 59,
   "metadata": {},
   "outputs": [
    {
     "name": "stderr",
     "output_type": "stream",
     "text": [
      "/var/folders/ty/16fzq05x36915f9bsdrg3kfm0000gn/T/ipykernel_14683/2818044991.py:1: SettingWithCopyWarning: \n",
      "A value is trying to be set on a copy of a slice from a DataFrame\n",
      "\n",
      "See the caveats in the documentation: https://pandas.pydata.org/pandas-docs/stable/user_guide/indexing.html#returning-a-view-versus-a-copy\n",
      "  DEV.drop(columns=['img'],inplace=True)\n"
     ]
    }
   ],
   "source": [
    "DEV.drop(columns=['img'],inplace=True)\n",
    "DEV.to_csv('result/REX_true.csv',index=False)"
   ]
  },
  {
   "cell_type": "markdown",
   "metadata": {},
   "source": [
    "## 类型作为输入"
   ]
  },
  {
   "cell_type": "code",
   "execution_count": 1,
   "metadata": {},
   "outputs": [],
   "source": [
    "# import  os, glob\n",
    "import  random, csv\n",
    "import tensorflow as tf\n",
    "from tensorflow.keras.callbacks import ModelCheckpoint\n",
    "from tensorflow.keras.layers import Activation, Dropout\n",
    "from tensorflow.keras import layers, losses\n",
    "from tensorflow import keras\n",
    "import numpy as np\n",
    "from sklearn.model_selection import GridSearchCV\n",
    "from tensorflow.keras.models import Sequential, Model\n",
    "from tensorflow.keras.wrappers.scikit_learn import KerasClassifier\n",
    "from tensorflow.keras.layers import Conv2D, MaxPooling2D, Flatten, Dense\n",
    "from tensorflow.keras.callbacks import EarlyStopping\n",
    "\n",
    "import h5py\n",
    "import numpy as np\n",
    "import pandas as pd\n",
    "import tensorflow as tf\n",
    "import tensorflow_hub as hub\n",
    "#import to_rgb"
   ]
  },
  {
   "cell_type": "code",
   "execution_count": 2,
   "metadata": {},
   "outputs": [],
   "source": [
    "file1=h5py.File('data/new_train_6w.h5','r')\n",
    "#file2=h5py.File('new_val_1w.h5','r')"
   ]
  },
  {
   "cell_type": "code",
   "execution_count": 4,
   "metadata": {},
   "outputs": [
    {
     "data": {
      "text/html": [
       "<style>#sk-container-id-1 {color: black;}#sk-container-id-1 pre{padding: 0;}#sk-container-id-1 div.sk-toggleable {background-color: white;}#sk-container-id-1 label.sk-toggleable__label {cursor: pointer;display: block;width: 100%;margin-bottom: 0;padding: 0.3em;box-sizing: border-box;text-align: center;}#sk-container-id-1 label.sk-toggleable__label-arrow:before {content: \"▸\";float: left;margin-right: 0.25em;color: #696969;}#sk-container-id-1 label.sk-toggleable__label-arrow:hover:before {color: black;}#sk-container-id-1 div.sk-estimator:hover label.sk-toggleable__label-arrow:before {color: black;}#sk-container-id-1 div.sk-toggleable__content {max-height: 0;max-width: 0;overflow: hidden;text-align: left;background-color: #f0f8ff;}#sk-container-id-1 div.sk-toggleable__content pre {margin: 0.2em;color: black;border-radius: 0.25em;background-color: #f0f8ff;}#sk-container-id-1 input.sk-toggleable__control:checked~div.sk-toggleable__content {max-height: 200px;max-width: 100%;overflow: auto;}#sk-container-id-1 input.sk-toggleable__control:checked~label.sk-toggleable__label-arrow:before {content: \"▾\";}#sk-container-id-1 div.sk-estimator input.sk-toggleable__control:checked~label.sk-toggleable__label {background-color: #d4ebff;}#sk-container-id-1 div.sk-label input.sk-toggleable__control:checked~label.sk-toggleable__label {background-color: #d4ebff;}#sk-container-id-1 input.sk-hidden--visually {border: 0;clip: rect(1px 1px 1px 1px);clip: rect(1px, 1px, 1px, 1px);height: 1px;margin: -1px;overflow: hidden;padding: 0;position: absolute;width: 1px;}#sk-container-id-1 div.sk-estimator {font-family: monospace;background-color: #f0f8ff;border: 1px dotted black;border-radius: 0.25em;box-sizing: border-box;margin-bottom: 0.5em;}#sk-container-id-1 div.sk-estimator:hover {background-color: #d4ebff;}#sk-container-id-1 div.sk-parallel-item::after {content: \"\";width: 100%;border-bottom: 1px solid gray;flex-grow: 1;}#sk-container-id-1 div.sk-label:hover label.sk-toggleable__label {background-color: #d4ebff;}#sk-container-id-1 div.sk-serial::before {content: \"\";position: absolute;border-left: 1px solid gray;box-sizing: border-box;top: 0;bottom: 0;left: 50%;z-index: 0;}#sk-container-id-1 div.sk-serial {display: flex;flex-direction: column;align-items: center;background-color: white;padding-right: 0.2em;padding-left: 0.2em;position: relative;}#sk-container-id-1 div.sk-item {position: relative;z-index: 1;}#sk-container-id-1 div.sk-parallel {display: flex;align-items: stretch;justify-content: center;background-color: white;position: relative;}#sk-container-id-1 div.sk-item::before, #sk-container-id-1 div.sk-parallel-item::before {content: \"\";position: absolute;border-left: 1px solid gray;box-sizing: border-box;top: 0;bottom: 0;left: 50%;z-index: -1;}#sk-container-id-1 div.sk-parallel-item {display: flex;flex-direction: column;z-index: 1;position: relative;background-color: white;}#sk-container-id-1 div.sk-parallel-item:first-child::after {align-self: flex-end;width: 50%;}#sk-container-id-1 div.sk-parallel-item:last-child::after {align-self: flex-start;width: 50%;}#sk-container-id-1 div.sk-parallel-item:only-child::after {width: 0;}#sk-container-id-1 div.sk-dashed-wrapped {border: 1px dashed gray;margin: 0 0.4em 0.5em 0.4em;box-sizing: border-box;padding-bottom: 0.4em;background-color: white;}#sk-container-id-1 div.sk-label label {font-family: monospace;font-weight: bold;display: inline-block;line-height: 1.2em;}#sk-container-id-1 div.sk-label-container {text-align: center;}#sk-container-id-1 div.sk-container {/* jupyter's `normalize.less` sets `[hidden] { display: none; }` but bootstrap.min.css set `[hidden] { display: none !important; }` so we also need the `!important` here to be able to override the default hidden behavior on the sphinx rendered scikit-learn.org. See: https://github.com/scikit-learn/scikit-learn/issues/21755 */display: inline-block !important;position: relative;}#sk-container-id-1 div.sk-text-repr-fallback {display: none;}</style><div id=\"sk-container-id-1\" class=\"sk-top-container\"><div class=\"sk-text-repr-fallback\"><pre>MinMaxScaler()</pre><b>In a Jupyter environment, please rerun this cell to show the HTML representation or trust the notebook. <br />On GitHub, the HTML representation is unable to render, please try loading this page with nbviewer.org.</b></div><div class=\"sk-container\" hidden><div class=\"sk-item\"><div class=\"sk-estimator sk-toggleable\"><input class=\"sk-toggleable__control sk-hidden--visually\" id=\"sk-estimator-id-1\" type=\"checkbox\" checked><label for=\"sk-estimator-id-1\" class=\"sk-toggleable__label sk-toggleable__label-arrow\">MinMaxScaler</label><div class=\"sk-toggleable__content\"><pre>MinMaxScaler()</pre></div></div></div></div></div>"
      ],
      "text/plain": [
       "MinMaxScaler()"
      ]
     },
     "execution_count": 4,
     "metadata": {},
     "output_type": "execute_result"
    }
   ],
   "source": [
    "from sklearn.preprocessing import MinMaxScaler\n",
    "scaler_sfr_train=MinMaxScaler()\n",
    "scaler_sfr_1=np.array(file1['specsfr_fib_p50']).reshape(-1, 1)\n",
    "scaler_sfr_train.fit(scaler_sfr_1)\n",
    "#train lgm\n",
    "scaler_lgm_train=MinMaxScaler()\n",
    "scaler_lgm_1=np.array(file1['lgm_fib_p50']).reshape(-1, 1)\n",
    "scaler_lgm_train.fit(scaler_lgm_1)"
   ]
  },
  {
   "cell_type": "code",
   "execution_count": 4,
   "metadata": {},
   "outputs": [],
   "source": [
    "data_train=pd.DataFrame({\n",
    "    'sfr_fib_p50':file1['sfr_fib_p50'],\n",
    "    'lgm_fib_p50':file1['lgm_fib_p50'],\n",
    "    'ra_1':file1['ra_1'],\n",
    "    'dec_1':file1['dec_1']\n",
    "})\n",
    "sfr1=file1['sfr_fib_p50']\n",
    "lgm1=file1['lgm_fib_p50']\n",
    "img1=file1['processed_images']\n",
    "\n",
    "data_val=pd.DataFrame({\n",
    "    'sfr_fib_p50':file2['sfr_fib_p50'],\n",
    "    'lgm_fib_p50':file2['lgm_fib_p50'],\n",
    "    'ra_1':file2['ra_1'],\n",
    "    'dec_1':file2['dec_1']\n",
    "})\n",
    "sfr2=file2['sfr_fib_p50']\n",
    "lgm2=file2['lgm_fib_p50']\n",
    "img2=file2['processed_images']"
   ]
  },
  {
   "cell_type": "code",
   "execution_count": 7,
   "metadata": {},
   "outputs": [],
   "source": [
    "import matplotlib.pyplot as plt\n",
    "# 计算裁剪区域的左上角和右下角坐标\n",
    "original_length=152\n",
    "target_length=64\n",
    "left = (original_length - target_length) // 2\n",
    "top = (original_length - target_length) // 2\n",
    "right = left + target_length\n",
    "bottom = top + target_length\n",
    "\n",
    "cropped_images = []\n",
    "for image_array in img1:\n",
    "    # 裁剪并添加到裁剪后的图像数组\n",
    "    cropped_image = image_array[:, top:bottom, left:right]\n",
    "    cropped_images.append(cropped_image)\n",
    "\n",
    "img_rgb1=[dr2_rgb(i,['g','r','z'])  for i in cropped_images]\n",
    "img_rgb1 = np.array(img_rgb1)\n",
    "\n",
    "cropped_images = []\n",
    "for image_array in img2:\n",
    "    # 裁剪并添加到裁剪后的图像数组\n",
    "    cropped_image = image_array[:, top:bottom, left:right]\n",
    "    cropped_images.append(cropped_image)\n",
    "\n",
    "\n",
    "img_rgb2=[dr2_rgb(i,['g','r','z'])  for i in cropped_images]\n",
    "img_rgb2 = np.array(img_rgb2)"
   ]
  },
  {
   "cell_type": "code",
   "execution_count": 8,
   "metadata": {},
   "outputs": [
    {
     "name": "stdout",
     "output_type": "stream",
     "text": [
      "40000 10000\n"
     ]
    }
   ],
   "source": [
    "image_merged=[]\n",
    "tmp_list=[]\n",
    "for i in range(len(img_rgb1)):\n",
    "    image_merged.append(img_rgb1[i])\n",
    "    tmp_list.append(i)\n",
    "        \n",
    "tmp_dict={'images':image_merged}\n",
    "df_01=pd.DataFrame(tmp_dict)\n",
    "data_train['img']=df_01\n",
    "\n",
    "\n",
    "image_merged=[]\n",
    "tmp_list=[]\n",
    "for i in range(len(img_rgb2)):\n",
    "    image_merged.append(img_rgb2[i])\n",
    "    tmp_list.append(i)\n",
    "        \n",
    "tmp_dict={'images':image_merged}\n",
    "df_01=pd.DataFrame(tmp_dict)\n",
    "data_val['img']=df_01\n",
    "\n",
    "print(len(data_train),len(data_val))"
   ]
  },
  {
   "cell_type": "code",
   "execution_count": 12,
   "metadata": {},
   "outputs": [],
   "source": [
    "df_train=pd.read_csv('../train_4w.csv')\n",
    "df_val=pd.read_csv('../val_1w.csv')"
   ]
  },
  {
   "cell_type": "code",
   "execution_count": 17,
   "metadata": {},
   "outputs": [],
   "source": [
    "merged_train = df_train.merge(data_train, on=['ra_1', 'dec_1'], how='inner')\n",
    "merged_val = df_val.merge(data_val, on=['ra_1', 'dec_1'], how='inner')"
   ]
  },
  {
   "cell_type": "code",
   "execution_count": 19,
   "metadata": {},
   "outputs": [
    {
     "data": {
      "text/plain": [
       "0        b\"b'DEV'\"\n",
       "1        b\"b'SER'\"\n",
       "2        b\"b'SER'\"\n",
       "3        b\"b'SER'\"\n",
       "4        b\"b'SER'\"\n",
       "           ...    \n",
       "39995    b\"b'SER'\"\n",
       "39996    b\"b'SER'\"\n",
       "39997    b\"b'SER'\"\n",
       "39998    b\"b'SER'\"\n",
       "39999    b\"b'SER'\"\n",
       "Name: source_type, Length: 40000, dtype: object"
      ]
     },
     "execution_count": 19,
     "metadata": {},
     "output_type": "execute_result"
    }
   ],
   "source": [
    "merged_train['source_type']"
   ]
  },
  {
   "cell_type": "code",
   "execution_count": 26,
   "metadata": {},
   "outputs": [
    {
     "name": "stdout",
     "output_type": "stream",
     "text": [
      "{0: 'b\"b\\'DEV\\'\"', 1: 'b\"b\\'SER\\'\"', 2: 'b\"b\\'REX\\'\"', 3: 'b\"b\\'EXP\\'\"'}\n"
     ]
    }
   ],
   "source": [
    "merged_train['type'], mapping_index = pd.factorize(merged_train['source_type'])\n",
    "merged_val['type'], _ = pd.factorize(merged_val['source_type'])\n",
    "mapping_dict = {index: category for index, category in enumerate(merged_train['source_type'].unique())}\n",
    "print(mapping_dict)"
   ]
  },
  {
   "cell_type": "code",
   "execution_count": 53,
   "metadata": {},
   "outputs": [
    {
     "name": "stdout",
     "output_type": "stream",
     "text": [
      "{0: 'b\"b\\'DEV\\'\"', 1: 'b\"b\\'SER\\'\"', 2: 'b\"b\\'REX\\'\"', 3: 'b\"b\\'EXP\\'\"'}\n"
     ]
    }
   ],
   "source": [
    "merged_val['type'], _ = pd.factorize(merged_val['source_type'])\n",
    "dict = {index: category for index, category in enumerate(merged_train['source_type'].unique())}\n",
    "print(dict)\n"
   ]
  },
  {
   "cell_type": "code",
   "execution_count": 37,
   "metadata": {},
   "outputs": [],
   "source": [
    "from sklearn.preprocessing import MinMaxScaler\n",
    "#train sfr\n",
    "scaler_sfr_train=MinMaxScaler()\n",
    "scaler_sfr_1=np.array(sfr1).reshape(-1, 1)\n",
    "scaler_sfr_train.fit(scaler_sfr_1)\n",
    "scaler_sfr_1=np.array(merged_train['sfr_fib_p50_x']).reshape(-1, 1)\n",
    "scaler_sfr_1 = scaler_sfr_train.transform(scaler_sfr_1)\n",
    "#train lgm\n",
    "scaler_lgm_train=MinMaxScaler()\n",
    "scaler_lgm_1=np.array(lgm1).reshape(-1, 1)\n",
    "scaler_lgm_train.fit(scaler_lgm_1)\n",
    "scaler_lgm_1=np.array(merged_train['lgm_fib_p50_x']).reshape(-1, 1)\n",
    "scaler_lgm_1 = scaler_lgm_train.transform(scaler_lgm_1)\n",
    "# #val sfr\n",
    "# scaler_sfr_val=MinMaxScaler()\n",
    "scaler_sfr_2=np.array(merged_val['sfr_fib_p50_x']).reshape(-1, 1)\n",
    "scaler_sfr_2 = scaler_sfr_train.transform(scaler_sfr_2)\n",
    "# #val lgm\n",
    "# scaler_lgm_val=MinMaxScaler()\n",
    "scaler_lgm_2=np.array(merged_val['lgm_fib_p50_x']).reshape(-1, 1)\n",
    "scaler_lgm_2 = scaler_lgm_train.transform(scaler_lgm_2)"
   ]
  },
  {
   "cell_type": "code",
   "execution_count": 38,
   "metadata": {},
   "outputs": [
    {
     "data": {
      "text/plain": [
       "(40000, 2)"
      ]
     },
     "execution_count": 38,
     "metadata": {},
     "output_type": "execute_result"
    }
   ],
   "source": [
    "combined_array_1 = np.concatenate((scaler_lgm_1, scaler_sfr_1), axis=1)\n",
    "combined_array_2 = np.concatenate((scaler_lgm_2, scaler_sfr_2), axis=1)\n",
    "combined_array_1.shape"
   ]
  },
  {
   "cell_type": "code",
   "execution_count": 42,
   "metadata": {},
   "outputs": [],
   "source": [
    "train_list=[]\n",
    "for i in merged_train['img']:\n",
    "    train_list.append(i)\n",
    "train_list=np.array(train_list)\n",
    "\n",
    "val_list=[]\n",
    "for i in merged_val['img']:\n",
    "    val_list.append(i)\n",
    "val_list=np.array(val_list)"
   ]
  },
  {
   "cell_type": "code",
   "execution_count": 43,
   "metadata": {},
   "outputs": [],
   "source": [
    "with tf.device(\"CPU\"):\n",
    "    train_ds=tf.data.Dataset.from_tensor_slices((\n",
    "        {'image_input': train_list, 'data': np.array(merged_train['type'])},combined_array_1\n",
    "    ))\n",
    "    val_ds=tf.data.Dataset.from_tensor_slices((\n",
    "        {'image_input': val_list, 'data': np.array(merged_val['type'])},combined_array_2\n",
    "    ))"
   ]
  },
  {
   "cell_type": "code",
   "execution_count": 44,
   "metadata": {},
   "outputs": [],
   "source": [
    "seed_value = 42\n",
    "tf.random.set_seed(seed_value)\n",
    "\n",
    "\n",
    "batch_size = 128\n",
    "train_ds = train_ds.shuffle(buffer_size=4000)  \n",
    "train_ds = train_ds.batch(batch_size)\n",
    "train_ds = train_ds.prefetch(buffer_size=tf.data.experimental.AUTOTUNE)\n",
    "\n",
    "val_ds = val_ds.batch(batch_size)\n",
    "val_ds = val_ds.prefetch(buffer_size=tf.data.experimental.AUTOTUNE)"
   ]
  },
  {
   "cell_type": "code",
   "execution_count": null,
   "metadata": {
    "collapsed": true,
    "jupyter": {
     "outputs_hidden": true
    },
    "tags": []
   },
   "outputs": [
    {
     "name": "stderr",
     "output_type": "stream",
     "text": [
      "[I 2023-10-10 08:34:39,188] A new study created in memory with name: no-name-ae8fbe3f-848e-440d-be42-c6f4bbf32a3d\n"
     ]
    },
    {
     "name": "stdout",
     "output_type": "stream",
     "text": [
      "##########################################################################################\n",
      "Learning Rate: 0.0003, Dropout Rate: 0.25, Dense Units: 128\n",
      "Epoch 1/10\n",
      "313/313 [==============================] - 56s 116ms/step - loss: 0.4906 - output_1_loss: 0.1232 - output_2_loss: 0.1511 - output_1_mae: 0.1232 - output_2_mae: 0.1511 - val_loss: 0.3636 - val_output_1_loss: 0.0613 - val_output_2_loss: 0.1089 - val_output_1_mae: 0.0613 - val_output_2_mae: 0.1089\n",
      "Epoch 2/10\n",
      "313/313 [==============================] - 34s 109ms/step - loss: 0.3397 - output_1_loss: 0.0644 - output_2_loss: 0.1069 - output_1_mae: 0.0644 - output_2_mae: 0.1069 - val_loss: 0.2935 - val_output_1_loss: 0.0513 - val_output_2_loss: 0.0990 - val_output_1_mae: 0.0513 - val_output_2_mae: 0.0990\n",
      "Epoch 3/10\n",
      "313/313 [==============================] - 34s 109ms/step - loss: 0.2754 - output_1_loss: 0.0569 - output_2_loss: 0.0985 - output_1_mae: 0.0569 - output_2_mae: 0.0985 - val_loss: 0.2431 - val_output_1_loss: 0.0474 - val_output_2_loss: 0.0973 - val_output_1_mae: 0.0474 - val_output_2_mae: 0.0973\n",
      "Epoch 4/10\n",
      "313/313 [==============================] - 34s 108ms/step - loss: 0.2276 - output_1_loss: 0.0531 - output_2_loss: 0.0941 - output_1_mae: 0.0531 - output_2_mae: 0.0941 - val_loss: 0.2207 - val_output_1_loss: 0.0577 - val_output_2_loss: 0.0989 - val_output_1_mae: 0.0577 - val_output_2_mae: 0.0989\n",
      "Epoch 5/10\n",
      "313/313 [==============================] - 34s 108ms/step - loss: 0.1928 - output_1_loss: 0.0504 - output_2_loss: 0.0910 - output_1_mae: 0.0504 - output_2_mae: 0.0910 - val_loss: 0.1830 - val_output_1_loss: 0.0460 - val_output_2_loss: 0.0968 - val_output_1_mae: 0.0460 - val_output_2_mae: 0.0968\n",
      "Epoch 6/10\n",
      "313/313 [==============================] - 34s 110ms/step - loss: 0.1698 - output_1_loss: 0.0487 - output_2_loss: 0.0892 - output_1_mae: 0.0487 - output_2_mae: 0.0892 - val_loss: 0.1666 - val_output_1_loss: 0.0471 - val_output_2_loss: 0.0947 - val_output_1_mae: 0.0471 - val_output_2_mae: 0.0947\n",
      "Epoch 7/10\n",
      "313/313 [==============================] - 34s 109ms/step - loss: 0.1541 - output_1_loss: 0.0478 - output_2_loss: 0.0866 - output_1_mae: 0.0478 - output_2_mae: 0.0866 - val_loss: 0.1489 - val_output_1_loss: 0.0430 - val_output_2_loss: 0.0905 - val_output_1_mae: 0.0430 - val_output_2_mae: 0.0905\n",
      "Epoch 8/10\n",
      "313/313 [==============================] - 34s 109ms/step - loss: 0.1424 - output_1_loss: 0.0453 - output_2_loss: 0.0846 - output_1_mae: 0.0453 - output_2_mae: 0.0846 - val_loss: 0.1466 - val_output_1_loss: 0.0448 - val_output_2_loss: 0.0918 - val_output_1_mae: 0.0448 - val_output_2_mae: 0.0918\n",
      "Epoch 9/10\n",
      "313/313 [==============================] - 34s 109ms/step - loss: 0.1359 - output_1_loss: 0.0449 - output_2_loss: 0.0826 - output_1_mae: 0.0449 - output_2_mae: 0.0826 - val_loss: 0.1410 - val_output_1_loss: 0.0423 - val_output_2_loss: 0.0917 - val_output_1_mae: 0.0423 - val_output_2_mae: 0.0917\n",
      "Epoch 10/10\n",
      "313/313 [==============================] - 34s 108ms/step - loss: 0.1312 - output_1_loss: 0.0440 - output_2_loss: 0.0812 - output_1_mae: 0.0440 - output_2_mae: 0.0812 - val_loss: 0.1389 - val_output_1_loss: 0.0438 - val_output_2_loss: 0.0899 - val_output_1_mae: 0.0438 - val_output_2_mae: 0.0899\n"
     ]
    },
    {
     "name": "stderr",
     "output_type": "stream",
     "text": [
      "[I 2023-10-10 08:41:18,001] Trial 0 finished with value: 0.1389477401971817 and parameters: {'learning_rate': 0.0003, 'dropout_rate': 0.25, 'dense_units': 128}. Best is trial 0 with value: 0.1389477401971817.\n"
     ]
    },
    {
     "name": "stdout",
     "output_type": "stream",
     "text": [
      "##########################################################################################\n",
      "Learning Rate: 0.0001, Dropout Rate: 0.25, Dense Units: 256\n",
      "Epoch 1/10\n",
      "313/313 [==============================] - 53s 114ms/step - loss: 0.8575 - output_1_loss: 0.2265 - output_2_loss: 0.2066 - output_1_mae: 0.2265 - output_2_mae: 0.2066 - val_loss: 0.6877 - val_output_1_loss: 0.1439 - val_output_2_loss: 0.1357 - val_output_1_mae: 0.1439 - val_output_2_mae: 0.1357\n",
      "Epoch 2/10\n",
      "313/313 [==============================] - 34s 109ms/step - loss: 0.6086 - output_1_loss: 0.0894 - output_2_loss: 0.1290 - output_1_mae: 0.0894 - output_2_mae: 0.1290 - val_loss: 0.6162 - val_output_1_loss: 0.1209 - val_output_2_loss: 0.1239 - val_output_1_mae: 0.1209 - val_output_2_mae: 0.1239\n",
      "Epoch 3/10\n",
      "313/313 [==============================] - 34s 109ms/step - loss: 0.5421 - output_1_loss: 0.0739 - output_2_loss: 0.1163 - output_1_mae: 0.0739 - output_2_mae: 0.1163 - val_loss: 0.5172 - val_output_1_loss: 0.0720 - val_output_2_loss: 0.1135 - val_output_1_mae: 0.0720 - val_output_2_mae: 0.1135\n",
      "Epoch 4/10\n",
      "313/313 [==============================] - 34s 108ms/step - loss: 0.4846 - output_1_loss: 0.0646 - output_2_loss: 0.1087 - output_1_mae: 0.0646 - output_2_mae: 0.1087 - val_loss: 0.4596 - val_output_1_loss: 0.0621 - val_output_2_loss: 0.1069 - val_output_1_mae: 0.0621 - val_output_2_mae: 0.1069\n",
      "Epoch 5/10\n",
      "313/313 [==============================] - 35s 111ms/step - loss: 0.4324 - output_1_loss: 0.0595 - output_2_loss: 0.1027 - output_1_mae: 0.0595 - output_2_mae: 0.1027 - val_loss: 0.4033 - val_output_1_loss: 0.0524 - val_output_2_loss: 0.1014 - val_output_1_mae: 0.0524 - val_output_2_mae: 0.1014\n",
      "Epoch 6/10\n",
      "313/313 [==============================] - 34s 110ms/step - loss: 0.3854 - output_1_loss: 0.0565 - output_2_loss: 0.0993 - output_1_mae: 0.0565 - output_2_mae: 0.0993 - val_loss: 0.3605 - val_output_1_loss: 0.0524 - val_output_2_loss: 0.0981 - val_output_1_mae: 0.0524 - val_output_2_mae: 0.0981\n",
      "Epoch 7/10\n",
      "313/313 [==============================] - 35s 112ms/step - loss: 0.3415 - output_1_loss: 0.0542 - output_2_loss: 0.0958 - output_1_mae: 0.0542 - output_2_mae: 0.0958 - val_loss: 0.3207 - val_output_1_loss: 0.0497 - val_output_2_loss: 0.0980 - val_output_1_mae: 0.0497 - val_output_2_mae: 0.0980\n",
      "Epoch 8/10\n",
      "313/313 [==============================] - 34s 109ms/step - loss: 0.3016 - output_1_loss: 0.0517 - output_2_loss: 0.0936 - output_1_mae: 0.0517 - output_2_mae: 0.0936 - val_loss: 0.2821 - val_output_1_loss: 0.0470 - val_output_2_loss: 0.0952 - val_output_1_mae: 0.0470 - val_output_2_mae: 0.0952\n",
      "Epoch 9/10\n",
      "313/313 [==============================] - 34s 110ms/step - loss: 0.2670 - output_1_loss: 0.0502 - output_2_loss: 0.0916 - output_1_mae: 0.0502 - output_2_mae: 0.0916 - val_loss: 0.2534 - val_output_1_loss: 0.0483 - val_output_2_loss: 0.0940 - val_output_1_mae: 0.0483 - val_output_2_mae: 0.0940\n",
      "Epoch 10/10\n",
      "313/313 [==============================] - 35s 110ms/step - loss: 0.2367 - output_1_loss: 0.0491 - output_2_loss: 0.0891 - output_1_mae: 0.0491 - output_2_mae: 0.0891 - val_loss: 0.2286 - val_output_1_loss: 0.0473 - val_output_2_loss: 0.0946 - val_output_1_mae: 0.0473 - val_output_2_mae: 0.0946\n"
     ]
    },
    {
     "name": "stderr",
     "output_type": "stream",
     "text": [
      "[I 2023-10-10 08:47:55,856] Trial 1 finished with value: 0.22858354449272156 and parameters: {'learning_rate': 0.0001, 'dropout_rate': 0.25, 'dense_units': 256}. Best is trial 0 with value: 0.1389477401971817.\n"
     ]
    },
    {
     "name": "stdout",
     "output_type": "stream",
     "text": [
      "##########################################################################################\n",
      "Learning Rate: 0.0001, Dropout Rate: 0.3, Dense Units: 1024\n",
      "Epoch 1/10\n",
      "313/313 [==============================] - 53s 114ms/step - loss: 1.5173 - output_1_loss: 0.1736 - output_2_loss: 0.1799 - output_1_mae: 0.1736 - output_2_mae: 0.1799 - val_loss: 1.3978 - val_output_1_loss: 0.1586 - val_output_2_loss: 0.1494 - val_output_1_mae: 0.1586 - val_output_2_mae: 0.1494\n",
      "Epoch 2/10\n",
      "313/313 [==============================] - 34s 109ms/step - loss: 1.2264 - output_1_loss: 0.0876 - output_2_loss: 0.1263 - output_1_mae: 0.0876 - output_2_mae: 0.1263 - val_loss: 1.1850 - val_output_1_loss: 0.1136 - val_output_2_loss: 0.1375 - val_output_1_mae: 0.1136 - val_output_2_mae: 0.1375\n",
      "Epoch 3/10\n",
      "313/313 [==============================] - 34s 109ms/step - loss: 1.0445 - output_1_loss: 0.0723 - output_2_loss: 0.1153 - output_1_mae: 0.0723 - output_2_mae: 0.1153 - val_loss: 0.9912 - val_output_1_loss: 0.0878 - val_output_2_loss: 0.1231 - val_output_1_mae: 0.0878 - val_output_2_mae: 0.1231\n",
      "Epoch 4/10\n",
      "313/313 [==============================] - 34s 110ms/step - loss: 0.8796 - output_1_loss: 0.0650 - output_2_loss: 0.1071 - output_1_mae: 0.0650 - output_2_mae: 0.1071 - val_loss: 0.8856 - val_output_1_loss: 0.1406 - val_output_2_loss: 0.1087 - val_output_1_mae: 0.1406 - val_output_2_mae: 0.1087\n",
      "Epoch 5/10\n",
      "313/313 [==============================] - 34s 110ms/step - loss: 0.7349 - output_1_loss: 0.0609 - output_2_loss: 0.1028 - output_1_mae: 0.0609 - output_2_mae: 0.1028 - val_loss: 0.7317 - val_output_1_loss: 0.1067 - val_output_2_loss: 0.1169 - val_output_1_mae: 0.1067 - val_output_2_mae: 0.1169\n",
      "Epoch 6/10\n",
      "313/313 [==============================] - 34s 110ms/step - loss: 0.6057 - output_1_loss: 0.0563 - output_2_loss: 0.0979 - output_1_mae: 0.0563 - output_2_mae: 0.0979 - val_loss: 0.5719 - val_output_1_loss: 0.0727 - val_output_2_loss: 0.1018 - val_output_1_mae: 0.0727 - val_output_2_mae: 0.1018\n",
      "Epoch 7/10\n",
      "313/313 [==============================] - 34s 107ms/step - loss: 0.4990 - output_1_loss: 0.0540 - output_2_loss: 0.0950 - output_1_mae: 0.0540 - output_2_mae: 0.0950 - val_loss: 0.4902 - val_output_1_loss: 0.0843 - val_output_2_loss: 0.1008 - val_output_1_mae: 0.0843 - val_output_2_mae: 0.1008\n",
      "Epoch 8/10\n",
      "313/313 [==============================] - 34s 107ms/step - loss: 0.4108 - output_1_loss: 0.0516 - output_2_loss: 0.0924 - output_1_mae: 0.0516 - output_2_mae: 0.0924 - val_loss: 0.4111 - val_output_1_loss: 0.0850 - val_output_2_loss: 0.0951 - val_output_1_mae: 0.0850 - val_output_2_mae: 0.0951\n",
      "Epoch 9/10\n",
      "313/313 [==============================] - 34s 109ms/step - loss: 0.3422 - output_1_loss: 0.0509 - output_2_loss: 0.0904 - output_1_mae: 0.0509 - output_2_mae: 0.0904 - val_loss: 0.3266 - val_output_1_loss: 0.0601 - val_output_2_loss: 0.0934 - val_output_1_mae: 0.0601 - val_output_2_mae: 0.0934\n",
      "Epoch 10/10\n",
      "313/313 [==============================] - 34s 108ms/step - loss: 0.2879 - output_1_loss: 0.0489 - output_2_loss: 0.0889 - output_1_mae: 0.0489 - output_2_mae: 0.0889 - val_loss: 0.2929 - val_output_1_loss: 0.0682 - val_output_2_loss: 0.0958 - val_output_1_mae: 0.0682 - val_output_2_mae: 0.0958\n"
     ]
    },
    {
     "name": "stderr",
     "output_type": "stream",
     "text": [
      "[I 2023-10-10 08:54:30,314] Trial 2 finished with value: 0.29290494322776794 and parameters: {'learning_rate': 0.0001, 'dropout_rate': 0.3, 'dense_units': 1024}. Best is trial 0 with value: 0.1389477401971817.\n"
     ]
    },
    {
     "name": "stdout",
     "output_type": "stream",
     "text": [
      "##########################################################################################\n",
      "Learning Rate: 0.0003, Dropout Rate: 0.25, Dense Units: 256\n",
      "Epoch 1/10\n",
      "313/313 [==============================] - 54s 114ms/step - loss: 0.6764 - output_1_loss: 0.1289 - output_2_loss: 0.1546 - output_1_mae: 0.1289 - output_2_mae: 0.1546 - val_loss: 0.5153 - val_output_1_loss: 0.0637 - val_output_2_loss: 0.1131 - val_output_1_mae: 0.0637 - val_output_2_mae: 0.1131\n",
      "Epoch 2/10\n",
      "313/313 [==============================] - 34s 109ms/step - loss: 0.4533 - output_1_loss: 0.0641 - output_2_loss: 0.1073 - output_1_mae: 0.0641 - output_2_mae: 0.1073 - val_loss: 0.3763 - val_output_1_loss: 0.0497 - val_output_2_loss: 0.0994 - val_output_1_mae: 0.0497 - val_output_2_mae: 0.0994\n",
      "Epoch 3/10\n",
      "313/313 [==============================] - 34s 109ms/step - loss: 0.3356 - output_1_loss: 0.0562 - output_2_loss: 0.0985 - output_1_mae: 0.0562 - output_2_mae: 0.0985 - val_loss: 0.2830 - val_output_1_loss: 0.0476 - val_output_2_loss: 0.0963 - val_output_1_mae: 0.0476 - val_output_2_mae: 0.0963\n",
      "Epoch 4/10\n",
      "313/313 [==============================] - 34s 109ms/step - loss: 0.2542 - output_1_loss: 0.0526 - output_2_loss: 0.0940 - output_1_mae: 0.0526 - output_2_mae: 0.0940 - val_loss: 0.2210 - val_output_1_loss: 0.0456 - val_output_2_loss: 0.0951 - val_output_1_mae: 0.0456 - val_output_2_mae: 0.0951\n",
      "Epoch 5/10\n",
      "313/313 [==============================] - 34s 109ms/step - loss: 0.2020 - output_1_loss: 0.0501 - output_2_loss: 0.0907 - output_1_mae: 0.0501 - output_2_mae: 0.0907 - val_loss: 0.1816 - val_output_1_loss: 0.0444 - val_output_2_loss: 0.0921 - val_output_1_mae: 0.0444 - val_output_2_mae: 0.0921\n",
      "Epoch 6/10\n",
      "313/313 [==============================] - 34s 109ms/step - loss: 0.1714 - output_1_loss: 0.0484 - output_2_loss: 0.0886 - output_1_mae: 0.0484 - output_2_mae: 0.0886 - val_loss: 0.1615 - val_output_1_loss: 0.0460 - val_output_2_loss: 0.0900 - val_output_1_mae: 0.0460 - val_output_2_mae: 0.0900\n",
      "Epoch 7/10\n",
      "313/313 [==============================] - 34s 108ms/step - loss: 0.1546 - output_1_loss: 0.0484 - output_2_loss: 0.0863 - output_1_mae: 0.0484 - output_2_mae: 0.0863 - val_loss: 0.1533 - val_output_1_loss: 0.0468 - val_output_2_loss: 0.0912 - val_output_1_mae: 0.0468 - val_output_2_mae: 0.0912\n",
      "Epoch 8/10\n",
      "313/313 [==============================] - 35s 111ms/step - loss: 0.1437 - output_1_loss: 0.0465 - output_2_loss: 0.0847 - output_1_mae: 0.0465 - output_2_mae: 0.0847 - val_loss: 0.1442 - val_output_1_loss: 0.0448 - val_output_2_loss: 0.0892 - val_output_1_mae: 0.0448 - val_output_2_mae: 0.0892\n",
      "Epoch 9/10\n",
      "313/313 [==============================] - 34s 109ms/step - loss: 0.1360 - output_1_loss: 0.0446 - output_2_loss: 0.0826 - output_1_mae: 0.0446 - output_2_mae: 0.0826 - val_loss: 0.1410 - val_output_1_loss: 0.0426 - val_output_2_loss: 0.0910 - val_output_1_mae: 0.0426 - val_output_2_mae: 0.0910\n",
      "Epoch 10/10\n",
      "313/313 [==============================] - 34s 109ms/step - loss: 0.1318 - output_1_loss: 0.0443 - output_2_loss: 0.0807 - output_1_mae: 0.0443 - output_2_mae: 0.0807 - val_loss: 0.1384 - val_output_1_loss: 0.0432 - val_output_2_loss: 0.0891 - val_output_1_mae: 0.0432 - val_output_2_mae: 0.0891\n"
     ]
    },
    {
     "name": "stderr",
     "output_type": "stream",
     "text": [
      "[I 2023-10-10 09:01:06,095] Trial 3 finished with value: 0.13842256367206573 and parameters: {'learning_rate': 0.0003, 'dropout_rate': 0.25, 'dense_units': 256}. Best is trial 3 with value: 0.13842256367206573.\n"
     ]
    },
    {
     "name": "stdout",
     "output_type": "stream",
     "text": [
      "##########################################################################################\n",
      "Learning Rate: 0.0003, Dropout Rate: 0.25, Dense Units: 1024\n",
      "Epoch 1/10\n",
      "313/313 [==============================] - 55s 115ms/step - loss: 1.2831 - output_1_loss: 0.1161 - output_2_loss: 0.1497 - output_1_mae: 0.1161 - output_2_mae: 0.1497 - val_loss: 1.0201 - val_output_1_loss: 0.1240 - val_output_2_loss: 0.1095 - val_output_1_mae: 0.1240 - val_output_2_mae: 0.1095\n",
      "Epoch 2/10\n",
      "313/313 [==============================] - 34s 108ms/step - loss: 0.7627 - output_1_loss: 0.0640 - output_2_loss: 0.1071 - output_1_mae: 0.0640 - output_2_mae: 0.1071 - val_loss: 0.6024 - val_output_1_loss: 0.0775 - val_output_2_loss: 0.1039 - val_output_1_mae: 0.0775 - val_output_2_mae: 0.1039\n",
      "Epoch 3/10\n",
      "313/313 [==============================] - 34s 110ms/step - loss: 0.4575 - output_1_loss: 0.0563 - output_2_loss: 0.0985 - output_1_mae: 0.0563 - output_2_mae: 0.0985 - val_loss: 0.3502 - val_output_1_loss: 0.0486 - val_output_2_loss: 0.0965 - val_output_1_mae: 0.0486 - val_output_2_mae: 0.0965\n",
      "Epoch 4/10\n",
      "313/313 [==============================] - 34s 109ms/step - loss: 0.2895 - output_1_loss: 0.0530 - output_2_loss: 0.0929 - output_1_mae: 0.0530 - output_2_mae: 0.0929 - val_loss: 0.2443 - val_output_1_loss: 0.0512 - val_output_2_loss: 0.0982 - val_output_1_mae: 0.0512 - val_output_2_mae: 0.0982\n",
      "Epoch 5/10\n",
      "313/313 [==============================] - 34s 108ms/step - loss: 0.2070 - output_1_loss: 0.0507 - output_2_loss: 0.0899 - output_1_mae: 0.0507 - output_2_mae: 0.0899 - val_loss: 0.1983 - val_output_1_loss: 0.0549 - val_output_2_loss: 0.0990 - val_output_1_mae: 0.0549 - val_output_2_mae: 0.0990\n",
      "Epoch 6/10\n",
      "313/313 [==============================] - 34s 110ms/step - loss: 0.1692 - output_1_loss: 0.0492 - output_2_loss: 0.0879 - output_1_mae: 0.0492 - output_2_mae: 0.0879 - val_loss: 0.1605 - val_output_1_loss: 0.0449 - val_output_2_loss: 0.0931 - val_output_1_mae: 0.0449 - val_output_2_mae: 0.0931\n",
      "Epoch 7/10\n",
      "313/313 [==============================] - 34s 110ms/step - loss: 0.1523 - output_1_loss: 0.0489 - output_2_loss: 0.0861 - output_1_mae: 0.0489 - output_2_mae: 0.0861 - val_loss: 0.1535 - val_output_1_loss: 0.0477 - val_output_2_loss: 0.0928 - val_output_1_mae: 0.0477 - val_output_2_mae: 0.0928\n",
      "Epoch 8/10\n",
      "313/313 [==============================] - 34s 109ms/step - loss: 0.1414 - output_1_loss: 0.0472 - output_2_loss: 0.0835 - output_1_mae: 0.0472 - output_2_mae: 0.0835 - val_loss: 0.1578 - val_output_1_loss: 0.0561 - val_output_2_loss: 0.0930 - val_output_1_mae: 0.0561 - val_output_2_mae: 0.0930\n",
      "Epoch 9/10\n",
      "313/313 [==============================] - 34s 110ms/step - loss: 0.1338 - output_1_loss: 0.0451 - output_2_loss: 0.0812 - output_1_mae: 0.0451 - output_2_mae: 0.0812 - val_loss: 0.1644 - val_output_1_loss: 0.0652 - val_output_2_loss: 0.0928 - val_output_1_mae: 0.0652 - val_output_2_mae: 0.0928\n",
      "Epoch 10/10\n",
      "313/313 [==============================] - 34s 109ms/step - loss: 0.1293 - output_1_loss: 0.0439 - output_2_loss: 0.0798 - output_1_mae: 0.0439 - output_2_mae: 0.0798 - val_loss: 0.1415 - val_output_1_loss: 0.0447 - val_output_2_loss: 0.0918 - val_output_1_mae: 0.0447 - val_output_2_mae: 0.0918\n"
     ]
    },
    {
     "name": "stderr",
     "output_type": "stream",
     "text": [
      "[I 2023-10-10 09:07:43,169] Trial 4 finished with value: 0.14147359132766724 and parameters: {'learning_rate': 0.0003, 'dropout_rate': 0.25, 'dense_units': 1024}. Best is trial 3 with value: 0.13842256367206573.\n"
     ]
    },
    {
     "name": "stdout",
     "output_type": "stream",
     "text": [
      "##########################################################################################\n",
      "Learning Rate: 0.0003, Dropout Rate: 0.25, Dense Units: 256\n",
      "Epoch 1/10\n",
      "313/313 [==============================] - 53s 113ms/step - loss: 0.6596 - output_1_loss: 0.1197 - output_2_loss: 0.1484 - output_1_mae: 0.1197 - output_2_mae: 0.1484 - val_loss: 0.5193 - val_output_1_loss: 0.0717 - val_output_2_loss: 0.1101 - val_output_1_mae: 0.0717 - val_output_2_mae: 0.1101\n",
      "Epoch 2/10\n",
      "313/313 [==============================] - 34s 110ms/step - loss: 0.4546 - output_1_loss: 0.0648 - output_2_loss: 0.1073 - output_1_mae: 0.0648 - output_2_mae: 0.1073 - val_loss: 0.3863 - val_output_1_loss: 0.0585 - val_output_2_loss: 0.0986 - val_output_1_mae: 0.0585 - val_output_2_mae: 0.0986\n",
      "Epoch 3/10\n",
      "313/313 [==============================] - 34s 110ms/step - loss: 0.3386 - output_1_loss: 0.0565 - output_2_loss: 0.0980 - output_1_mae: 0.0565 - output_2_mae: 0.0980 - val_loss: 0.2871 - val_output_1_loss: 0.0483 - val_output_2_loss: 0.0957 - val_output_1_mae: 0.0483 - val_output_2_mae: 0.0957\n",
      "Epoch 4/10\n",
      "313/313 [==============================] - 34s 109ms/step - loss: 0.2588 - output_1_loss: 0.0532 - output_2_loss: 0.0939 - output_1_mae: 0.0532 - output_2_mae: 0.0939 - val_loss: 0.2252 - val_output_1_loss: 0.0475 - val_output_2_loss: 0.0932 - val_output_1_mae: 0.0475 - val_output_2_mae: 0.0932\n",
      "Epoch 5/10\n",
      "313/313 [==============================] - 34s 110ms/step - loss: 0.2065 - output_1_loss: 0.0506 - output_2_loss: 0.0911 - output_1_mae: 0.0506 - output_2_mae: 0.0911 - val_loss: 0.1985 - val_output_1_loss: 0.0551 - val_output_2_loss: 0.0951 - val_output_1_mae: 0.0551 - val_output_2_mae: 0.0951\n",
      "Epoch 6/10\n",
      "313/313 [==============================] - 35s 110ms/step - loss: 0.1741 - output_1_loss: 0.0488 - output_2_loss: 0.0880 - output_1_mae: 0.0488 - output_2_mae: 0.0880 - val_loss: 0.1709 - val_output_1_loss: 0.0500 - val_output_2_loss: 0.0928 - val_output_1_mae: 0.0500 - val_output_2_mae: 0.0928\n",
      "Epoch 7/10\n",
      "313/313 [==============================] - 34s 110ms/step - loss: 0.1556 - output_1_loss: 0.0473 - output_2_loss: 0.0863 - output_1_mae: 0.0473 - output_2_mae: 0.0863 - val_loss: 0.1667 - val_output_1_loss: 0.0523 - val_output_2_loss: 0.0973 - val_output_1_mae: 0.0523 - val_output_2_mae: 0.0973\n",
      "Epoch 8/10\n",
      "313/313 [==============================] - 34s 110ms/step - loss: 0.1444 - output_1_loss: 0.0464 - output_2_loss: 0.0843 - output_1_mae: 0.0464 - output_2_mae: 0.0843 - val_loss: 0.1481 - val_output_1_loss: 0.0450 - val_output_2_loss: 0.0920 - val_output_1_mae: 0.0450 - val_output_2_mae: 0.0920\n",
      "Epoch 9/10\n",
      "313/313 [==============================] - 34s 109ms/step - loss: 0.1376 - output_1_loss: 0.0456 - output_2_loss: 0.0825 - output_1_mae: 0.0456 - output_2_mae: 0.0825 - val_loss: 0.1418 - val_output_1_loss: 0.0424 - val_output_2_loss: 0.0914 - val_output_1_mae: 0.0424 - val_output_2_mae: 0.0914\n",
      "Epoch 10/10\n",
      "313/313 [==============================] - 35s 110ms/step - loss: 0.1308 - output_1_loss: 0.0435 - output_2_loss: 0.0803 - output_1_mae: 0.0435 - output_2_mae: 0.0803 - val_loss: 0.1408 - val_output_1_loss: 0.0437 - val_output_2_loss: 0.0908 - val_output_1_mae: 0.0437 - val_output_2_mae: 0.0908\n"
     ]
    },
    {
     "name": "stderr",
     "output_type": "stream",
     "text": [
      "[I 2023-10-10 09:14:20,928] Trial 5 finished with value: 0.14076067507266998 and parameters: {'learning_rate': 0.0003, 'dropout_rate': 0.25, 'dense_units': 256}. Best is trial 3 with value: 0.13842256367206573.\n"
     ]
    },
    {
     "name": "stdout",
     "output_type": "stream",
     "text": [
      "##########################################################################################\n",
      "Learning Rate: 0.0003, Dropout Rate: 0.3, Dense Units: 256\n",
      "Epoch 1/10\n",
      "313/313 [==============================] - 53s 114ms/step - loss: 0.6725 - output_1_loss: 0.1201 - output_2_loss: 0.1587 - output_1_mae: 0.1201 - output_2_mae: 0.1587 - val_loss: 0.5367 - val_output_1_loss: 0.0850 - val_output_2_loss: 0.1107 - val_output_1_mae: 0.0850 - val_output_2_mae: 0.1107\n",
      "Epoch 2/10\n",
      "313/313 [==============================] - 34s 110ms/step - loss: 0.4605 - output_1_loss: 0.0661 - output_2_loss: 0.1071 - output_1_mae: 0.0661 - output_2_mae: 0.1071 - val_loss: 0.3961 - val_output_1_loss: 0.0616 - val_output_2_loss: 0.0995 - val_output_1_mae: 0.0616 - val_output_2_mae: 0.0995\n",
      "Epoch 3/10\n",
      "313/313 [==============================] - 34s 108ms/step - loss: 0.3459 - output_1_loss: 0.0573 - output_2_loss: 0.0987 - output_1_mae: 0.0573 - output_2_mae: 0.0987 - val_loss: 0.3002 - val_output_1_loss: 0.0554 - val_output_2_loss: 0.0961 - val_output_1_mae: 0.0554 - val_output_2_mae: 0.0961\n",
      "Epoch 4/10\n",
      "313/313 [==============================] - 35s 111ms/step - loss: 0.2650 - output_1_loss: 0.0540 - output_2_loss: 0.0942 - output_1_mae: 0.0540 - output_2_mae: 0.0942 - val_loss: 0.2369 - val_output_1_loss: 0.0529 - val_output_2_loss: 0.0953 - val_output_1_mae: 0.0529 - val_output_2_mae: 0.0953\n",
      "Epoch 5/10\n",
      "313/313 [==============================] - 35s 113ms/step - loss: 0.2113 - output_1_loss: 0.0517 - output_2_loss: 0.0911 - output_1_mae: 0.0517 - output_2_mae: 0.0911 - val_loss: 0.1897 - val_output_1_loss: 0.0460 - val_output_2_loss: 0.0926 - val_output_1_mae: 0.0460 - val_output_2_mae: 0.0926\n",
      "Epoch 6/10\n",
      "313/313 [==============================] - 35s 111ms/step - loss: 0.1777 - output_1_loss: 0.0495 - output_2_loss: 0.0888 - output_1_mae: 0.0495 - output_2_mae: 0.0888 - val_loss: 0.1704 - val_output_1_loss: 0.0478 - val_output_2_loss: 0.0930 - val_output_1_mae: 0.0478 - val_output_2_mae: 0.0930\n",
      "Epoch 7/10\n",
      "313/313 [==============================] - 35s 111ms/step - loss: 0.1577 - output_1_loss: 0.0479 - output_2_loss: 0.0867 - output_1_mae: 0.0479 - output_2_mae: 0.0867 - val_loss: 0.1579 - val_output_1_loss: 0.0443 - val_output_2_loss: 0.0956 - val_output_1_mae: 0.0443 - val_output_2_mae: 0.0956\n",
      "Epoch 8/10\n",
      "313/313 [==============================] - 35s 111ms/step - loss: 0.1459 - output_1_loss: 0.0466 - output_2_loss: 0.0847 - output_1_mae: 0.0466 - output_2_mae: 0.0847 - val_loss: 0.1527 - val_output_1_loss: 0.0474 - val_output_2_loss: 0.0936 - val_output_1_mae: 0.0474 - val_output_2_mae: 0.0936\n",
      "Epoch 9/10\n",
      "313/313 [==============================] - 35s 111ms/step - loss: 0.1378 - output_1_loss: 0.0457 - output_2_loss: 0.0822 - output_1_mae: 0.0457 - output_2_mae: 0.0822 - val_loss: 0.1466 - val_output_1_loss: 0.0465 - val_output_2_loss: 0.0918 - val_output_1_mae: 0.0465 - val_output_2_mae: 0.0918\n",
      "Epoch 10/10\n",
      "313/313 [==============================] - 34s 107ms/step - loss: 0.1324 - output_1_loss: 0.0441 - output_2_loss: 0.0809 - output_1_mae: 0.0441 - output_2_mae: 0.0809 - val_loss: 0.1446 - val_output_1_loss: 0.0441 - val_output_2_loss: 0.0940 - val_output_1_mae: 0.0441 - val_output_2_mae: 0.0940\n"
     ]
    },
    {
     "name": "stderr",
     "output_type": "stream",
     "text": [
      "[I 2023-10-10 09:21:00,165] Trial 6 finished with value: 0.144614115357399 and parameters: {'learning_rate': 0.0003, 'dropout_rate': 0.3, 'dense_units': 256}. Best is trial 3 with value: 0.13842256367206573.\n"
     ]
    },
    {
     "name": "stdout",
     "output_type": "stream",
     "text": [
      "##########################################################################################\n",
      "Learning Rate: 0.001, Dropout Rate: 0.25, Dense Units: 512\n",
      "Epoch 1/10\n",
      "313/313 [==============================] - 53s 114ms/step - loss: 0.6552 - output_1_loss: 0.0902 - output_2_loss: 0.1266 - output_1_mae: 0.0902 - output_2_mae: 0.1266 - val_loss: 0.3217 - val_output_1_loss: 0.0546 - val_output_2_loss: 0.1003 - val_output_1_mae: 0.0546 - val_output_2_mae: 0.1003\n",
      "Epoch 2/10\n",
      "313/313 [==============================] - 34s 108ms/step - loss: 0.2310 - output_1_loss: 0.0570 - output_2_loss: 0.0976 - output_1_mae: 0.0570 - output_2_mae: 0.0976 - val_loss: 0.1880 - val_output_1_loss: 0.0589 - val_output_2_loss: 0.1003 - val_output_1_mae: 0.0589 - val_output_2_mae: 0.1003\n",
      "Epoch 3/10\n",
      "313/313 [==============================] - 34s 107ms/step - loss: 0.1632 - output_1_loss: 0.0537 - output_2_loss: 0.0929 - output_1_mae: 0.0537 - output_2_mae: 0.0929 - val_loss: 0.1530 - val_output_1_loss: 0.0498 - val_output_2_loss: 0.0935 - val_output_1_mae: 0.0498 - val_output_2_mae: 0.0935\n",
      "Epoch 4/10\n",
      "313/313 [==============================] - 34s 110ms/step - loss: 0.1483 - output_1_loss: 0.0510 - output_2_loss: 0.0902 - output_1_mae: 0.0510 - output_2_mae: 0.0902 - val_loss: 0.1466 - val_output_1_loss: 0.0443 - val_output_2_loss: 0.0966 - val_output_1_mae: 0.0443 - val_output_2_mae: 0.0966\n",
      "Epoch 5/10\n",
      "313/313 [==============================] - 34s 109ms/step - loss: 0.1444 - output_1_loss: 0.0509 - output_2_loss: 0.0884 - output_1_mae: 0.0509 - output_2_mae: 0.0884 - val_loss: 0.1490 - val_output_1_loss: 0.0499 - val_output_2_loss: 0.0953 - val_output_1_mae: 0.0499 - val_output_2_mae: 0.0953\n",
      "Epoch 6/10\n",
      "313/313 [==============================] - 34s 109ms/step - loss: 0.1364 - output_1_loss: 0.0470 - output_2_loss: 0.0862 - output_1_mae: 0.0470 - output_2_mae: 0.0862 - val_loss: 0.1509 - val_output_1_loss: 0.0449 - val_output_2_loss: 0.1029 - val_output_1_mae: 0.0449 - val_output_2_mae: 0.1029\n",
      "Epoch 7/10\n",
      "313/313 [==============================] - 34s 109ms/step - loss: 0.1322 - output_1_loss: 0.0462 - output_2_loss: 0.0832 - output_1_mae: 0.0462 - output_2_mae: 0.0832 - val_loss: 0.1443 - val_output_1_loss: 0.0443 - val_output_2_loss: 0.0975 - val_output_1_mae: 0.0443 - val_output_2_mae: 0.0975\n",
      "Epoch 8/10\n",
      "313/313 [==============================] - 34s 109ms/step - loss: 0.1285 - output_1_loss: 0.0445 - output_2_loss: 0.0814 - output_1_mae: 0.0445 - output_2_mae: 0.0814 - val_loss: 0.1379 - val_output_1_loss: 0.0449 - val_output_2_loss: 0.0906 - val_output_1_mae: 0.0449 - val_output_2_mae: 0.0906\n",
      "Epoch 9/10\n",
      "313/313 [==============================] - 34s 108ms/step - loss: 0.1243 - output_1_loss: 0.0427 - output_2_loss: 0.0794 - output_1_mae: 0.0427 - output_2_mae: 0.0794 - val_loss: 0.1361 - val_output_1_loss: 0.0444 - val_output_2_loss: 0.0897 - val_output_1_mae: 0.0444 - val_output_2_mae: 0.0897\n",
      "Epoch 10/10\n",
      "313/313 [==============================] - 34s 109ms/step - loss: 0.1214 - output_1_loss: 0.0414 - output_2_loss: 0.0780 - output_1_mae: 0.0414 - output_2_mae: 0.0780 - val_loss: 0.1342 - val_output_1_loss: 0.0427 - val_output_2_loss: 0.0895 - val_output_1_mae: 0.0427 - val_output_2_mae: 0.0895\n"
     ]
    },
    {
     "name": "stderr",
     "output_type": "stream",
     "text": [
      "[I 2023-10-10 09:27:32,046] Trial 7 finished with value: 0.13422828912734985 and parameters: {'learning_rate': 0.001, 'dropout_rate': 0.25, 'dense_units': 512}. Best is trial 7 with value: 0.13422828912734985.\n"
     ]
    },
    {
     "name": "stdout",
     "output_type": "stream",
     "text": [
      "##########################################################################################\n",
      "Learning Rate: 0.001, Dropout Rate: 0.25, Dense Units: 256\n",
      "Epoch 1/10\n",
      "313/313 [==============================] - 53s 114ms/step - loss: 0.5059 - output_1_loss: 0.0893 - output_2_loss: 0.1240 - output_1_mae: 0.0893 - output_2_mae: 0.1240 - val_loss: 0.3012 - val_output_1_loss: 0.0494 - val_output_2_loss: 0.1018 - val_output_1_mae: 0.0494 - val_output_2_mae: 0.1018\n",
      "Epoch 2/10\n",
      "313/313 [==============================] - 34s 109ms/step - loss: 0.2328 - output_1_loss: 0.0562 - output_2_loss: 0.0965 - output_1_mae: 0.0562 - output_2_mae: 0.0965 - val_loss: 0.1748 - val_output_1_loss: 0.0464 - val_output_2_loss: 0.0925 - val_output_1_mae: 0.0464 - val_output_2_mae: 0.0925\n",
      "Epoch 3/10\n",
      "313/313 [==============================] - 34s 109ms/step - loss: 0.1646 - output_1_loss: 0.0526 - output_2_loss: 0.0920 - output_1_mae: 0.0526 - output_2_mae: 0.0920 - val_loss: 0.1478 - val_output_1_loss: 0.0436 - val_output_2_loss: 0.0940 - val_output_1_mae: 0.0436 - val_output_2_mae: 0.0940\n",
      "Epoch 4/10\n",
      "313/313 [==============================] - 34s 110ms/step - loss: 0.1493 - output_1_loss: 0.0507 - output_2_loss: 0.0909 - output_1_mae: 0.0507 - output_2_mae: 0.0909 - val_loss: 0.1540 - val_output_1_loss: 0.0539 - val_output_2_loss: 0.0950 - val_output_1_mae: 0.0539 - val_output_2_mae: 0.0950\n",
      "Epoch 5/10\n",
      "313/313 [==============================] - 34s 108ms/step - loss: 0.1400 - output_1_loss: 0.0483 - output_2_loss: 0.0877 - output_1_mae: 0.0483 - output_2_mae: 0.0877 - val_loss: 0.1629 - val_output_1_loss: 0.0553 - val_output_2_loss: 0.1042 - val_output_1_mae: 0.0553 - val_output_2_mae: 0.1042\n",
      "Epoch 6/10\n",
      "313/313 [==============================] - 34s 109ms/step - loss: 0.1356 - output_1_loss: 0.0468 - output_2_loss: 0.0858 - output_1_mae: 0.0468 - output_2_mae: 0.0858 - val_loss: 0.1356 - val_output_1_loss: 0.0440 - val_output_2_loss: 0.0890 - val_output_1_mae: 0.0440 - val_output_2_mae: 0.0890\n",
      "Epoch 7/10\n",
      "313/313 [==============================] - 34s 107ms/step - loss: 0.1321 - output_1_loss: 0.0459 - output_2_loss: 0.0835 - output_1_mae: 0.0459 - output_2_mae: 0.0835 - val_loss: 0.1407 - val_output_1_loss: 0.0471 - val_output_2_loss: 0.0910 - val_output_1_mae: 0.0471 - val_output_2_mae: 0.0910\n",
      "Epoch 8/10\n",
      "313/313 [==============================] - 34s 108ms/step - loss: 0.1287 - output_1_loss: 0.0447 - output_2_loss: 0.0816 - output_1_mae: 0.0447 - output_2_mae: 0.0816 - val_loss: 0.1470 - val_output_1_loss: 0.0479 - val_output_2_loss: 0.0970 - val_output_1_mae: 0.0479 - val_output_2_mae: 0.0970\n",
      "Epoch 9/10\n",
      "313/313 [==============================] - 33s 107ms/step - loss: 0.1254 - output_1_loss: 0.0435 - output_2_loss: 0.0799 - output_1_mae: 0.0435 - output_2_mae: 0.0799 - val_loss: 0.1488 - val_output_1_loss: 0.0537 - val_output_2_loss: 0.0932 - val_output_1_mae: 0.0537 - val_output_2_mae: 0.0932\n",
      "Epoch 10/10\n",
      "313/313 [==============================] - 34s 108ms/step - loss: 0.1225 - output_1_loss: 0.0422 - output_2_loss: 0.0785 - output_1_mae: 0.0422 - output_2_mae: 0.0785 - val_loss: 0.1534 - val_output_1_loss: 0.0540 - val_output_2_loss: 0.0977 - val_output_1_mae: 0.0540 - val_output_2_mae: 0.0977\n"
     ]
    },
    {
     "name": "stderr",
     "output_type": "stream",
     "text": [
      "[I 2023-10-10 09:34:03,610] Trial 8 finished with value: 0.15335528552532196 and parameters: {'learning_rate': 0.001, 'dropout_rate': 0.25, 'dense_units': 256}. Best is trial 7 with value: 0.13422828912734985.\n"
     ]
    },
    {
     "name": "stdout",
     "output_type": "stream",
     "text": [
      "##########################################################################################\n",
      "Learning Rate: 0.001, Dropout Rate: 0.3, Dense Units: 64\n",
      "Epoch 1/10\n",
      "313/313 [==============================] - 53s 115ms/step - loss: 0.3245 - output_1_loss: 0.1006 - output_2_loss: 0.1294 - output_1_mae: 0.1006 - output_2_mae: 0.1294 - val_loss: 0.2152 - val_output_1_loss: 0.0535 - val_output_2_loss: 0.0986 - val_output_1_mae: 0.0535 - val_output_2_mae: 0.0986\n",
      "Epoch 2/10\n",
      "313/313 [==============================] - 34s 108ms/step - loss: 0.1978 - output_1_loss: 0.0578 - output_2_loss: 0.0988 - output_1_mae: 0.0578 - output_2_mae: 0.0988 - val_loss: 0.1693 - val_output_1_loss: 0.0500 - val_output_2_loss: 0.0950 - val_output_1_mae: 0.0500 - val_output_2_mae: 0.0950\n",
      "Epoch 3/10\n",
      "313/313 [==============================] - 34s 109ms/step - loss: 0.1623 - output_1_loss: 0.0535 - output_2_loss: 0.0933 - output_1_mae: 0.0535 - output_2_mae: 0.0933 - val_loss: 0.1957 - val_output_1_loss: 0.0834 - val_output_2_loss: 0.1029 - val_output_1_mae: 0.0834 - val_output_2_mae: 0.1029\n",
      "Epoch 4/10\n",
      "313/313 [==============================] - 34s 109ms/step - loss: 0.1484 - output_1_loss: 0.0510 - output_2_loss: 0.0909 - output_1_mae: 0.0510 - output_2_mae: 0.0909 - val_loss: 0.1433 - val_output_1_loss: 0.0475 - val_output_2_loss: 0.0914 - val_output_1_mae: 0.0475 - val_output_2_mae: 0.0914\n",
      "Epoch 5/10\n",
      "313/313 [==============================] - 34s 109ms/step - loss: 0.1400 - output_1_loss: 0.0484 - output_2_loss: 0.0879 - output_1_mae: 0.0484 - output_2_mae: 0.0879 - val_loss: 0.1445 - val_output_1_loss: 0.0435 - val_output_2_loss: 0.0976 - val_output_1_mae: 0.0435 - val_output_2_mae: 0.0976\n",
      "Epoch 6/10\n",
      "313/313 [==============================] - 34s 109ms/step - loss: 0.1356 - output_1_loss: 0.0472 - output_2_loss: 0.0858 - output_1_mae: 0.0472 - output_2_mae: 0.0858 - val_loss: 0.1454 - val_output_1_loss: 0.0488 - val_output_2_loss: 0.0944 - val_output_1_mae: 0.0488 - val_output_2_mae: 0.0944\n",
      "Epoch 7/10\n",
      "313/313 [==============================] - 34s 109ms/step - loss: 0.1315 - output_1_loss: 0.0455 - output_2_loss: 0.0840 - output_1_mae: 0.0455 - output_2_mae: 0.0840 - val_loss: 0.1571 - val_output_1_loss: 0.0603 - val_output_2_loss: 0.0949 - val_output_1_mae: 0.0603 - val_output_2_mae: 0.0949\n",
      "Epoch 8/10\n",
      "313/313 [==============================] - 34s 107ms/step - loss: 0.1298 - output_1_loss: 0.0454 - output_2_loss: 0.0826 - output_1_mae: 0.0454 - output_2_mae: 0.0826 - val_loss: 0.1405 - val_output_1_loss: 0.0450 - val_output_2_loss: 0.0937 - val_output_1_mae: 0.0450 - val_output_2_mae: 0.0937\n",
      "Epoch 9/10\n",
      "161/313 [==============>...............] - ETA: 15s - loss: 0.1291 - output_1_loss: 0.0444 - output_2_loss: 0.0829 - output_1_mae: 0.0444 - output_2_mae: 0.0829"
     ]
    }
   ],
   "source": [
    "import optuna\n",
    "import tensorflow as tf\n",
    "from tensorflow.keras.layers import Dense\n",
    "from sklearn.model_selection import train_test_split\n",
    "from sklearn.metrics import accuracy_score\n",
    "\n",
    "def objective(trial):\n",
    "    lr = trial.suggest_categorical('learning_rate', [3e-4, 3e-4,1e-4, 1e-3]  )\n",
    "    dropout_rate = trial.suggest_categorical('dropout_rate', [0.25,0.3])\n",
    "    dense_units = trial.suggest_categorical('dense_units', [64, 128,256,512, 1024])\n",
    "    #batch_size = trial.suggest_categorical('batch_size', [64, 128])\n",
    "    print('##########################################################################################')\n",
    "    print(f'Learning Rate: {lr}, Dropout Rate: {dropout_rate}, Dense Units: {dense_units}')\n",
    "    input_layer = tf.keras.layers.Input(shape=(64, 64, 3))\n",
    "\n",
    "    # 特征提取层\n",
    "    feature_extractor_layer = hub.KerasLayer(\"https://www.kaggle.com/models/google/efficientnet-v2/frameworks/TensorFlow2/variations/imagenet1k-b3-feature-vector/versions/2\", trainable=True)(input_layer)\n",
    "\n",
    "    # 批量归一化层\n",
    "    #batch_norm_layer = tf.keras.layers.BatchNormalization()(feature_extractor_layer)\n",
    "\n",
    "    # Dropout层\n",
    "    dropout_layer = tf.keras.layers.Dropout(dropout_rate)(feature_extractor_layer)\n",
    "\n",
    "    # 全连接层\n",
    "    dense_layer = tf.keras.layers.Dense(dense_units, activation='relu', kernel_regularizer=tf.keras.regularizers.l2(0.001))(dropout_layer)\n",
    "\n",
    "    # 输出层1，与标签1的类型匹配\n",
    "    output_1 = tf.keras.layers.Dense(1, activation='linear', name='output_1')(dense_layer)\n",
    "\n",
    "    # 输出层2，与标签2的类型匹配\n",
    "    output_2 = tf.keras.layers.Dense(1, activation='linear', name='output_2')(dense_layer)\n",
    "\n",
    "    # 创建多输出模型\n",
    "    m = tf.keras.models.Model(inputs=input_layer, outputs=[output_1, output_2])\n",
    "\n",
    "    optimizer = tf.keras.optimizers.Adam(learning_rate=lr)\n",
    "    \n",
    "    m.compile(optimizer=optimizer,\n",
    "                   loss='mae',\n",
    "                   metrics=['mae'])\n",
    "    \n",
    "    \n",
    "    early_stopping = EarlyStopping(\n",
    "        monitor='val_loss',\n",
    "        min_delta=0.01,\n",
    "        patience=5\n",
    "    )\n",
    "    epoch=10\n",
    "    history=m.fit(train_ds,\n",
    "                validation_data=val_ds,\n",
    "                validation_freq=1,\n",
    "                epochs=epoch,\n",
    "                callbacks=[early_stopping])\n",
    "    \n",
    "    last_epoch_val_loss = history.history['val_loss'][-1]\n",
    "    \n",
    "    return last_epoch_val_loss\n",
    "\n",
    "\n",
    "study = optuna.create_study(direction='minimize')\n",
    "study.optimize(objective, n_trials=10)\n",
    "\n",
    "print('Number of finished trials: ', len(study.trials))\n",
    "print('Best trial:')\n",
    "trial = study.best_trial\n",
    "\n",
    "print('Value: ', trial.value)\n",
    "print('Params: ')\n",
    "for key, value in trial.params.items():\n",
    "    print(f'    {key}: {value}')\n"
   ]
  },
  {
   "cell_type": "code",
   "execution_count": 45,
   "metadata": {},
   "outputs": [
    {
     "name": "stdout",
     "output_type": "stream",
     "text": [
      "(None, 64)\n"
     ]
    }
   ],
   "source": [
    "# param1_input = tf.keras.Input(shape=(1,), name='input_1')\n",
    "# param2_input = tf.keras.Input(shape=(1,), name='input_2')\n",
    "data_input = tf.keras.layers.Input(shape=(1,), name=\"data_input\")\n",
    "\n",
    "#merged_inputs = layers.concatenate([param1_input, param2_input],name='merged_input')\n",
    "merged_model = tf.keras.layers.Dense(units=1024, activation='relu')(data_input)\n",
    "merged_model = tf.keras.layers.Dense(64, activation='relu', name=\"data_dense\")(merged_model)\n",
    "merged_output = tf.keras.layers.Dropout(0.5, name=\"merged_output\")(merged_model)\n",
    "print(merged_output.shape)"
   ]
  },
  {
   "cell_type": "code",
   "execution_count": 47,
   "metadata": {},
   "outputs": [
    {
     "name": "stdout",
     "output_type": "stream",
     "text": [
      "(None, 64)\n"
     ]
    }
   ],
   "source": [
    "image_input = tf.keras.layers.Input(shape=(64, 64, 3),name='image_input')\n",
    "\n",
    "# 特征提取层\n",
    "feature_extractor_layer = hub.KerasLayer(\"https://www.kaggle.com/models/google/efficientnet-v2/frameworks/TensorFlow2/variations/imagenet1k-b3-feature-vector/versions/2\", trainable=True)(image_input)\n",
    "\n",
    "# Dropout层\n",
    "dropout_layer = tf.keras.layers.Dropout(0.25)(feature_extractor_layer)\n",
    "\n",
    "# 全连接层\n",
    "img_output = tf.keras.layers.Dense(64, activation='relu', kernel_regularizer=tf.keras.regularizers.l2(0.001),name='image_output')(dropout_layer)\n",
    "print(img_output.shape)"
   ]
  },
  {
   "cell_type": "code",
   "execution_count": 51,
   "metadata": {},
   "outputs": [
    {
     "name": "stdout",
     "output_type": "stream",
     "text": [
      "Model: \"model_2\"\n",
      "__________________________________________________________________________________________________\n",
      " Layer (type)                   Output Shape         Param #     Connected to                     \n",
      "==================================================================================================\n",
      " image_input (InputLayer)       [(None, 64, 64, 3)]  0           []                               \n",
      "                                                                                                  \n",
      " data_input (InputLayer)        [(None, 1)]          0           []                               \n"
     ]
    },
    {
     "name": "stdout",
     "output_type": "stream",
     "text": [
      "                                                                                                  \n",
      " keras_layer_1 (KerasLayer)     (None, 1536)         12930622    ['image_input[0][0]']            \n",
      "                                                                                                  \n",
      " dense (Dense)                  (None, 1024)         2048        ['data_input[0][0]']             \n",
      "                                                                                                  \n",
      " dropout (Dropout)              (None, 1536)         0           ['keras_layer_1[0][0]']          \n",
      "                                                                                                  \n",
      " data_dense (Dense)             (None, 64)           65600       ['dense[0][0]']                  \n",
      "                                                                                                  \n",
      " image_output (Dense)           (None, 64)           98368       ['dropout[0][0]']                \n",
      "                                                                                                  \n",
      " merged_output (Dropout)        (None, 64)           0           ['data_dense[0][0]']             \n",
      "                                                                                                  \n",
      " concat_data_img (Concatenate)  (None, 128)          0           ['image_output[0][0]',           \n",
      "                                                                  'merged_output[0][0]']          \n",
      "                                                                                                  \n",
      " output_1 (Dense)               (None, 2)            258         ['concat_data_img[0][0]']        \n",
      "                                                                                                  \n",
      "==================================================================================================\n",
      "Total params: 13,096,896\n",
      "Trainable params: 12,987,680\n",
      "Non-trainable params: 109,216\n",
      "__________________________________________________________________________________________________\n"
     ]
    }
   ],
   "source": [
    "x = tf.keras.layers.concatenate([img_output,merged_output], name=\"concat_data_img\")\n",
    "\n",
    "output_1 = tf.keras.layers.Dense(2, activation='linear', name='output_1')(x)\n",
    "final_model = Model(inputs = [(data_input,image_input)], outputs = output_1)\n",
    "\n",
    "final_model.summary()"
   ]
  },
  {
   "cell_type": "code",
   "execution_count": 12,
   "metadata": {},
   "outputs": [],
   "source": [
    "# #Learning Rate: 0.001, Dropout Rate: 0.25, Dense Units: 512\n",
    "# import tensorflow as tf\n",
    "\n",
    "# input_layer = tf.keras.layers.Input(shape=(64, 64, 3))\n",
    "\n",
    "# # 特征提取层\n",
    "# feature_extractor_layer = hub.KerasLayer(\"https://www.kaggle.com/models/google/efficientnet-v2/frameworks/TensorFlow2/variations/imagenet1k-b3-feature-vector/versions/2\", trainable=True)(input_layer)\n",
    "\n",
    "# # Dropout层\n",
    "# dropout_layer = tf.keras.layers.Dropout(0.25)(feature_extractor_layer)\n",
    "\n",
    "# # 全连接层\n",
    "# dense_layer = tf.keras.layers.Dense(512, activation='relu', kernel_regularizer=tf.keras.regularizers.l2(0.001))(dropout_layer)\n",
    "\n",
    "# # 输出层1，与标签1的类型匹配\n",
    "# output_1 = tf.keras.layers.Dense(1, activation='linear', name='output_1')(dense_layer)\n",
    "\n",
    "# # 输出层2，与标签2的类型匹配\n",
    "# output_2 = tf.keras.layers.Dense(1, activation='linear', name='output_2')(dense_layer)\n",
    "\n",
    "# # 创建多输出模型\n",
    "# final_model = tf.keras.models.Model(inputs=input_layer, outputs=[output_1, output_2])\n",
    "# #Learning Rate: 0.0003, Dropout Rate: 0.5, Dense Units: 128\n"
   ]
  },
  {
   "cell_type": "code",
   "execution_count": 52,
   "metadata": {},
   "outputs": [
    {
     "name": "stderr",
     "output_type": "stream",
     "text": [
      "WARNING:absl:At this time, the v2.11+ optimizer `tf.keras.optimizers.Adam` runs slowly on M1/M2 Macs, please use the legacy Keras optimizer instead, located at `tf.keras.optimizers.legacy.Adam`.\n",
      "WARNING:absl:There is a known slowdown when using v2.11+ Keras optimizers on M1/M2 Macs. Falling back to the legacy Keras optimizer, i.e., `tf.keras.optimizers.legacy.Adam`.\n"
     ]
    },
    {
     "name": "stdout",
     "output_type": "stream",
     "text": [
      "Epoch 1/50\n"
     ]
    },
    {
     "name": "stderr",
     "output_type": "stream",
     "text": [
      "2023-10-12 19:14:15.775405: W tensorflow/tsl/platform/profile_utils/cpu_utils.cc:128] Failed to get CPU frequency: 0 Hz\n"
     ]
    },
    {
     "name": "stdout",
     "output_type": "stream",
     "text": [
      "  5/313 [..............................] - ETA: 6:05 - loss: 0.5169 - mae: 0.3941"
     ]
    },
    {
     "ename": "KeyboardInterrupt",
     "evalue": "",
     "output_type": "error",
     "traceback": [
      "\u001b[0;31m---------------------------------------------------------------------------\u001b[0m",
      "\u001b[0;31mKeyboardInterrupt\u001b[0m                         Traceback (most recent call last)",
      "\u001b[1;32m/Users/yuu/Downloads/ml-dl/stardata/processed_images/星系类型.ipynb 单元格 43\u001b[0m line \u001b[0;36m3\n\u001b[1;32m     <a href='vscode-notebook-cell:/Users/yuu/Downloads/ml-dl/stardata/processed_images/%E6%98%9F%E7%B3%BB%E7%B1%BB%E5%9E%8B.ipynb#X50sZmlsZQ%3D%3D?line=25'>26</a>\u001b[0m early_stopping \u001b[39m=\u001b[39m EarlyStopping(\n\u001b[1;32m     <a href='vscode-notebook-cell:/Users/yuu/Downloads/ml-dl/stardata/processed_images/%E6%98%9F%E7%B3%BB%E7%B1%BB%E5%9E%8B.ipynb#X50sZmlsZQ%3D%3D?line=26'>27</a>\u001b[0m     monitor\u001b[39m=\u001b[39m\u001b[39m'\u001b[39m\u001b[39mval_loss\u001b[39m\u001b[39m'\u001b[39m,\n\u001b[1;32m     <a href='vscode-notebook-cell:/Users/yuu/Downloads/ml-dl/stardata/processed_images/%E6%98%9F%E7%B3%BB%E7%B1%BB%E5%9E%8B.ipynb#X50sZmlsZQ%3D%3D?line=27'>28</a>\u001b[0m     min_delta\u001b[39m=\u001b[39m\u001b[39m0.005\u001b[39m,\n\u001b[1;32m     <a href='vscode-notebook-cell:/Users/yuu/Downloads/ml-dl/stardata/processed_images/%E6%98%9F%E7%B3%BB%E7%B1%BB%E5%9E%8B.ipynb#X50sZmlsZQ%3D%3D?line=28'>29</a>\u001b[0m     patience\u001b[39m=\u001b[39m\u001b[39m5\u001b[39m\n\u001b[1;32m     <a href='vscode-notebook-cell:/Users/yuu/Downloads/ml-dl/stardata/processed_images/%E6%98%9F%E7%B3%BB%E7%B1%BB%E5%9E%8B.ipynb#X50sZmlsZQ%3D%3D?line=29'>30</a>\u001b[0m )\n\u001b[1;32m     <a href='vscode-notebook-cell:/Users/yuu/Downloads/ml-dl/stardata/processed_images/%E6%98%9F%E7%B3%BB%E7%B1%BB%E5%9E%8B.ipynb#X50sZmlsZQ%3D%3D?line=30'>31</a>\u001b[0m epoch\u001b[39m=\u001b[39m\u001b[39m50\u001b[39m\n\u001b[0;32m---> <a href='vscode-notebook-cell:/Users/yuu/Downloads/ml-dl/stardata/processed_images/%E6%98%9F%E7%B3%BB%E7%B1%BB%E5%9E%8B.ipynb#X50sZmlsZQ%3D%3D?line=31'>32</a>\u001b[0m history\u001b[39m=\u001b[39mfinal_model\u001b[39m.\u001b[39;49mfit(train_ds,\n\u001b[1;32m     <a href='vscode-notebook-cell:/Users/yuu/Downloads/ml-dl/stardata/processed_images/%E6%98%9F%E7%B3%BB%E7%B1%BB%E5%9E%8B.ipynb#X50sZmlsZQ%3D%3D?line=32'>33</a>\u001b[0m             validation_data\u001b[39m=\u001b[39;49mval_ds,\n\u001b[1;32m     <a href='vscode-notebook-cell:/Users/yuu/Downloads/ml-dl/stardata/processed_images/%E6%98%9F%E7%B3%BB%E7%B1%BB%E5%9E%8B.ipynb#X50sZmlsZQ%3D%3D?line=33'>34</a>\u001b[0m             validation_freq\u001b[39m=\u001b[39;49m\u001b[39m1\u001b[39;49m,\n\u001b[1;32m     <a href='vscode-notebook-cell:/Users/yuu/Downloads/ml-dl/stardata/processed_images/%E6%98%9F%E7%B3%BB%E7%B1%BB%E5%9E%8B.ipynb#X50sZmlsZQ%3D%3D?line=34'>35</a>\u001b[0m             epochs\u001b[39m=\u001b[39;49mepoch,\n\u001b[1;32m     <a href='vscode-notebook-cell:/Users/yuu/Downloads/ml-dl/stardata/processed_images/%E6%98%9F%E7%B3%BB%E7%B1%BB%E5%9E%8B.ipynb#X50sZmlsZQ%3D%3D?line=35'>36</a>\u001b[0m             callbacks\u001b[39m=\u001b[39;49m[early_stopping])\n",
      "File \u001b[0;32m~/opt/miniconda3/envs/sblb/lib/python3.8/site-packages/keras/utils/traceback_utils.py:65\u001b[0m, in \u001b[0;36mfilter_traceback.<locals>.error_handler\u001b[0;34m(*args, **kwargs)\u001b[0m\n\u001b[1;32m     63\u001b[0m filtered_tb \u001b[39m=\u001b[39m \u001b[39mNone\u001b[39;00m\n\u001b[1;32m     64\u001b[0m \u001b[39mtry\u001b[39;00m:\n\u001b[0;32m---> 65\u001b[0m     \u001b[39mreturn\u001b[39;00m fn(\u001b[39m*\u001b[39;49margs, \u001b[39m*\u001b[39;49m\u001b[39m*\u001b[39;49mkwargs)\n\u001b[1;32m     66\u001b[0m \u001b[39mexcept\u001b[39;00m \u001b[39mException\u001b[39;00m \u001b[39mas\u001b[39;00m e:\n\u001b[1;32m     67\u001b[0m     filtered_tb \u001b[39m=\u001b[39m _process_traceback_frames(e\u001b[39m.\u001b[39m__traceback__)\n",
      "File \u001b[0;32m~/opt/miniconda3/envs/sblb/lib/python3.8/site-packages/keras/engine/training.py:1685\u001b[0m, in \u001b[0;36mModel.fit\u001b[0;34m(self, x, y, batch_size, epochs, verbose, callbacks, validation_split, validation_data, shuffle, class_weight, sample_weight, initial_epoch, steps_per_epoch, validation_steps, validation_batch_size, validation_freq, max_queue_size, workers, use_multiprocessing)\u001b[0m\n\u001b[1;32m   1677\u001b[0m \u001b[39mwith\u001b[39;00m tf\u001b[39m.\u001b[39mprofiler\u001b[39m.\u001b[39mexperimental\u001b[39m.\u001b[39mTrace(\n\u001b[1;32m   1678\u001b[0m     \u001b[39m\"\u001b[39m\u001b[39mtrain\u001b[39m\u001b[39m\"\u001b[39m,\n\u001b[1;32m   1679\u001b[0m     epoch_num\u001b[39m=\u001b[39mepoch,\n\u001b[0;32m   (...)\u001b[0m\n\u001b[1;32m   1682\u001b[0m     _r\u001b[39m=\u001b[39m\u001b[39m1\u001b[39m,\n\u001b[1;32m   1683\u001b[0m ):\n\u001b[1;32m   1684\u001b[0m     callbacks\u001b[39m.\u001b[39mon_train_batch_begin(step)\n\u001b[0;32m-> 1685\u001b[0m     tmp_logs \u001b[39m=\u001b[39m \u001b[39mself\u001b[39;49m\u001b[39m.\u001b[39;49mtrain_function(iterator)\n\u001b[1;32m   1686\u001b[0m     \u001b[39mif\u001b[39;00m data_handler\u001b[39m.\u001b[39mshould_sync:\n\u001b[1;32m   1687\u001b[0m         context\u001b[39m.\u001b[39masync_wait()\n",
      "File \u001b[0;32m~/opt/miniconda3/envs/sblb/lib/python3.8/site-packages/tensorflow/python/util/traceback_utils.py:150\u001b[0m, in \u001b[0;36mfilter_traceback.<locals>.error_handler\u001b[0;34m(*args, **kwargs)\u001b[0m\n\u001b[1;32m    148\u001b[0m filtered_tb \u001b[39m=\u001b[39m \u001b[39mNone\u001b[39;00m\n\u001b[1;32m    149\u001b[0m \u001b[39mtry\u001b[39;00m:\n\u001b[0;32m--> 150\u001b[0m   \u001b[39mreturn\u001b[39;00m fn(\u001b[39m*\u001b[39;49margs, \u001b[39m*\u001b[39;49m\u001b[39m*\u001b[39;49mkwargs)\n\u001b[1;32m    151\u001b[0m \u001b[39mexcept\u001b[39;00m \u001b[39mException\u001b[39;00m \u001b[39mas\u001b[39;00m e:\n\u001b[1;32m    152\u001b[0m   filtered_tb \u001b[39m=\u001b[39m _process_traceback_frames(e\u001b[39m.\u001b[39m__traceback__)\n",
      "File \u001b[0;32m~/opt/miniconda3/envs/sblb/lib/python3.8/site-packages/tensorflow/python/eager/polymorphic_function/polymorphic_function.py:894\u001b[0m, in \u001b[0;36mFunction.__call__\u001b[0;34m(self, *args, **kwds)\u001b[0m\n\u001b[1;32m    891\u001b[0m compiler \u001b[39m=\u001b[39m \u001b[39m\"\u001b[39m\u001b[39mxla\u001b[39m\u001b[39m\"\u001b[39m \u001b[39mif\u001b[39;00m \u001b[39mself\u001b[39m\u001b[39m.\u001b[39m_jit_compile \u001b[39melse\u001b[39;00m \u001b[39m\"\u001b[39m\u001b[39mnonXla\u001b[39m\u001b[39m\"\u001b[39m\n\u001b[1;32m    893\u001b[0m \u001b[39mwith\u001b[39;00m OptionalXlaContext(\u001b[39mself\u001b[39m\u001b[39m.\u001b[39m_jit_compile):\n\u001b[0;32m--> 894\u001b[0m   result \u001b[39m=\u001b[39m \u001b[39mself\u001b[39;49m\u001b[39m.\u001b[39;49m_call(\u001b[39m*\u001b[39;49margs, \u001b[39m*\u001b[39;49m\u001b[39m*\u001b[39;49mkwds)\n\u001b[1;32m    896\u001b[0m new_tracing_count \u001b[39m=\u001b[39m \u001b[39mself\u001b[39m\u001b[39m.\u001b[39mexperimental_get_tracing_count()\n\u001b[1;32m    897\u001b[0m without_tracing \u001b[39m=\u001b[39m (tracing_count \u001b[39m==\u001b[39m new_tracing_count)\n",
      "File \u001b[0;32m~/opt/miniconda3/envs/sblb/lib/python3.8/site-packages/tensorflow/python/eager/polymorphic_function/polymorphic_function.py:926\u001b[0m, in \u001b[0;36mFunction._call\u001b[0;34m(self, *args, **kwds)\u001b[0m\n\u001b[1;32m    923\u001b[0m   \u001b[39mself\u001b[39m\u001b[39m.\u001b[39m_lock\u001b[39m.\u001b[39mrelease()\n\u001b[1;32m    924\u001b[0m   \u001b[39m# In this case we have created variables on the first call, so we run the\u001b[39;00m\n\u001b[1;32m    925\u001b[0m   \u001b[39m# defunned version which is guaranteed to never create variables.\u001b[39;00m\n\u001b[0;32m--> 926\u001b[0m   \u001b[39mreturn\u001b[39;00m \u001b[39mself\u001b[39;49m\u001b[39m.\u001b[39;49m_no_variable_creation_fn(\u001b[39m*\u001b[39;49margs, \u001b[39m*\u001b[39;49m\u001b[39m*\u001b[39;49mkwds)  \u001b[39m# pylint: disable=not-callable\u001b[39;00m\n\u001b[1;32m    927\u001b[0m \u001b[39melif\u001b[39;00m \u001b[39mself\u001b[39m\u001b[39m.\u001b[39m_variable_creation_fn \u001b[39mis\u001b[39;00m \u001b[39mnot\u001b[39;00m \u001b[39mNone\u001b[39;00m:\n\u001b[1;32m    928\u001b[0m   \u001b[39m# Release the lock early so that multiple threads can perform the call\u001b[39;00m\n\u001b[1;32m    929\u001b[0m   \u001b[39m# in parallel.\u001b[39;00m\n\u001b[1;32m    930\u001b[0m   \u001b[39mself\u001b[39m\u001b[39m.\u001b[39m_lock\u001b[39m.\u001b[39mrelease()\n",
      "File \u001b[0;32m~/opt/miniconda3/envs/sblb/lib/python3.8/site-packages/tensorflow/python/eager/polymorphic_function/tracing_compiler.py:143\u001b[0m, in \u001b[0;36mTracingCompiler.__call__\u001b[0;34m(self, *args, **kwargs)\u001b[0m\n\u001b[1;32m    140\u001b[0m \u001b[39mwith\u001b[39;00m \u001b[39mself\u001b[39m\u001b[39m.\u001b[39m_lock:\n\u001b[1;32m    141\u001b[0m   (concrete_function,\n\u001b[1;32m    142\u001b[0m    filtered_flat_args) \u001b[39m=\u001b[39m \u001b[39mself\u001b[39m\u001b[39m.\u001b[39m_maybe_define_function(args, kwargs)\n\u001b[0;32m--> 143\u001b[0m \u001b[39mreturn\u001b[39;00m concrete_function\u001b[39m.\u001b[39;49m_call_flat(\n\u001b[1;32m    144\u001b[0m     filtered_flat_args, captured_inputs\u001b[39m=\u001b[39;49mconcrete_function\u001b[39m.\u001b[39;49mcaptured_inputs)\n",
      "File \u001b[0;32m~/opt/miniconda3/envs/sblb/lib/python3.8/site-packages/tensorflow/python/eager/polymorphic_function/monomorphic_function.py:1757\u001b[0m, in \u001b[0;36mConcreteFunction._call_flat\u001b[0;34m(self, args, captured_inputs, cancellation_manager)\u001b[0m\n\u001b[1;32m   1753\u001b[0m possible_gradient_type \u001b[39m=\u001b[39m gradients_util\u001b[39m.\u001b[39mPossibleTapeGradientTypes(args)\n\u001b[1;32m   1754\u001b[0m \u001b[39mif\u001b[39;00m (possible_gradient_type \u001b[39m==\u001b[39m gradients_util\u001b[39m.\u001b[39mPOSSIBLE_GRADIENT_TYPES_NONE\n\u001b[1;32m   1755\u001b[0m     \u001b[39mand\u001b[39;00m executing_eagerly):\n\u001b[1;32m   1756\u001b[0m   \u001b[39m# No tape is watching; skip to running the function.\u001b[39;00m\n\u001b[0;32m-> 1757\u001b[0m   \u001b[39mreturn\u001b[39;00m \u001b[39mself\u001b[39m\u001b[39m.\u001b[39m_build_call_outputs(\u001b[39mself\u001b[39;49m\u001b[39m.\u001b[39;49m_inference_function\u001b[39m.\u001b[39;49mcall(\n\u001b[1;32m   1758\u001b[0m       ctx, args, cancellation_manager\u001b[39m=\u001b[39;49mcancellation_manager))\n\u001b[1;32m   1759\u001b[0m forward_backward \u001b[39m=\u001b[39m \u001b[39mself\u001b[39m\u001b[39m.\u001b[39m_select_forward_and_backward_functions(\n\u001b[1;32m   1760\u001b[0m     args,\n\u001b[1;32m   1761\u001b[0m     possible_gradient_type,\n\u001b[1;32m   1762\u001b[0m     executing_eagerly)\n\u001b[1;32m   1763\u001b[0m forward_function, args_with_tangents \u001b[39m=\u001b[39m forward_backward\u001b[39m.\u001b[39mforward()\n",
      "File \u001b[0;32m~/opt/miniconda3/envs/sblb/lib/python3.8/site-packages/tensorflow/python/eager/polymorphic_function/monomorphic_function.py:381\u001b[0m, in \u001b[0;36m_EagerDefinedFunction.call\u001b[0;34m(self, ctx, args, cancellation_manager)\u001b[0m\n\u001b[1;32m    379\u001b[0m \u001b[39mwith\u001b[39;00m _InterpolateFunctionError(\u001b[39mself\u001b[39m):\n\u001b[1;32m    380\u001b[0m   \u001b[39mif\u001b[39;00m cancellation_manager \u001b[39mis\u001b[39;00m \u001b[39mNone\u001b[39;00m:\n\u001b[0;32m--> 381\u001b[0m     outputs \u001b[39m=\u001b[39m execute\u001b[39m.\u001b[39;49mexecute(\n\u001b[1;32m    382\u001b[0m         \u001b[39mstr\u001b[39;49m(\u001b[39mself\u001b[39;49m\u001b[39m.\u001b[39;49msignature\u001b[39m.\u001b[39;49mname),\n\u001b[1;32m    383\u001b[0m         num_outputs\u001b[39m=\u001b[39;49m\u001b[39mself\u001b[39;49m\u001b[39m.\u001b[39;49m_num_outputs,\n\u001b[1;32m    384\u001b[0m         inputs\u001b[39m=\u001b[39;49margs,\n\u001b[1;32m    385\u001b[0m         attrs\u001b[39m=\u001b[39;49mattrs,\n\u001b[1;32m    386\u001b[0m         ctx\u001b[39m=\u001b[39;49mctx)\n\u001b[1;32m    387\u001b[0m   \u001b[39melse\u001b[39;00m:\n\u001b[1;32m    388\u001b[0m     outputs \u001b[39m=\u001b[39m execute\u001b[39m.\u001b[39mexecute_with_cancellation(\n\u001b[1;32m    389\u001b[0m         \u001b[39mstr\u001b[39m(\u001b[39mself\u001b[39m\u001b[39m.\u001b[39msignature\u001b[39m.\u001b[39mname),\n\u001b[1;32m    390\u001b[0m         num_outputs\u001b[39m=\u001b[39m\u001b[39mself\u001b[39m\u001b[39m.\u001b[39m_num_outputs,\n\u001b[0;32m   (...)\u001b[0m\n\u001b[1;32m    393\u001b[0m         ctx\u001b[39m=\u001b[39mctx,\n\u001b[1;32m    394\u001b[0m         cancellation_manager\u001b[39m=\u001b[39mcancellation_manager)\n",
      "File \u001b[0;32m~/opt/miniconda3/envs/sblb/lib/python3.8/site-packages/tensorflow/python/eager/execute.py:52\u001b[0m, in \u001b[0;36mquick_execute\u001b[0;34m(op_name, num_outputs, inputs, attrs, ctx, name)\u001b[0m\n\u001b[1;32m     50\u001b[0m \u001b[39mtry\u001b[39;00m:\n\u001b[1;32m     51\u001b[0m   ctx\u001b[39m.\u001b[39mensure_initialized()\n\u001b[0;32m---> 52\u001b[0m   tensors \u001b[39m=\u001b[39m pywrap_tfe\u001b[39m.\u001b[39;49mTFE_Py_Execute(ctx\u001b[39m.\u001b[39;49m_handle, device_name, op_name,\n\u001b[1;32m     53\u001b[0m                                       inputs, attrs, num_outputs)\n\u001b[1;32m     54\u001b[0m \u001b[39mexcept\u001b[39;00m core\u001b[39m.\u001b[39m_NotOkStatusException \u001b[39mas\u001b[39;00m e:\n\u001b[1;32m     55\u001b[0m   \u001b[39mif\u001b[39;00m name \u001b[39mis\u001b[39;00m \u001b[39mnot\u001b[39;00m \u001b[39mNone\u001b[39;00m:\n",
      "\u001b[0;31mKeyboardInterrupt\u001b[0m: "
     ]
    }
   ],
   "source": [
    "def get_loss(y_true, y_pred):\n",
    "    y_sigma=y_pred[1]\n",
    "    y_true=y_pred[0]\n",
    "    loss = (tf.math.log(y_sigma) / 2.0 + (y_true - y_pred)**2 / (2.0 * y_sigma))\n",
    "    return tf.reduce_mean(loss) + 5.0\n",
    "#from tensorflow.keras.optimizers import legacy as keras_legacy_optimizers\n",
    "#Learning Rate: 0.0001, Dropout Rate: 0.1, Dense Units: 512\n",
    "initial_learning_rate = 0.001\n",
    "# lr_schedule = tf.keras.optimizers.schedules.ExponentialDecay(\n",
    "#         initial_learning_rate, \n",
    "#         decay_steps=10,     \n",
    "#         decay_rate=0.1,   \n",
    "#         staircase=True)\n",
    "boundaries=[15,25]\n",
    "values=[initial_learning_rate,initial_learning_rate*0.1,initial_learning_rate*0.1*0.96]\n",
    "learning_rate_schedule = tf.keras.optimizers.schedules.PiecewiseConstantDecay(boundaries, values)\n",
    "\n",
    "\n",
    "optimizer = tf.keras.optimizers.Adam(learning_rate=learning_rate_schedule)\n",
    "#optimizer = keras_legacy_optimizers.Adam(learning_rate=1e-4)\n",
    "\n",
    "final_model.compile(optimizer=optimizer,\n",
    "               loss='mae',\n",
    "               metrics=['mae'])\n",
    "\n",
    "early_stopping = EarlyStopping(\n",
    "    monitor='val_loss',\n",
    "    min_delta=0.005,\n",
    "    patience=5\n",
    ")\n",
    "epoch=50\n",
    "history=final_model.fit(train_ds,\n",
    "            validation_data=val_ds,\n",
    "            validation_freq=1,\n",
    "            epochs=epoch,\n",
    "            callbacks=[early_stopping])"
   ]
  },
  {
   "cell_type": "code",
   "execution_count": 15,
   "metadata": {},
   "outputs": [
    {
     "data": {
      "image/png": "[encoded data removed]",
      "text/plain": [
       "<Figure size 432x288 with 1 Axes>"
      ]
     },
     "metadata": {
      "needs_background": "light"
     },
     "output_type": "display_data"
    }
   ],
   "source": [
    "import matplotlib.pyplot as plt\n",
    "training_loss = history.history['loss']\n",
    "# loss_output_1 = history.history['output_1_loss']\n",
    "# loss_output_2 = history.history['output_2_loss']\n",
    "val_loss=history.history['val_loss']\n",
    "# 创建损失值曲线图\n",
    "epochs = range(1, len(training_loss) + 1)\n",
    "plt.plot(epochs, training_loss, 'g', label='Training Loss')\n",
    "# plt.plot(epochs, loss_output_1, 'b', label='Loss (Output 1)')\n",
    "# plt.plot(epochs, loss_output_2, 'r', label='Loss (Output 2)')\n",
    "plt.plot(epochs, val_loss, 'r', label='Val Loss')\n",
    "plt.title('Loss Curves for Multiple Outputs')\n",
    "plt.xlabel('Epochs')\n",
    "plt.ylabel('Loss')\n",
    "plt.legend()\n",
    "plt.show()"
   ]
  },
  {
   "cell_type": "code",
   "execution_count": 5,
   "metadata": {},
   "outputs": [],
   "source": [
    "import tensorflow as tf\n",
    "import tensorflow_hub as hub\n",
    "\n",
    "# 自定义对象字典，用于告诉 TensorFlow 如何处理自定义层\n",
    "custom_objects = {'KerasLayer': hub.KerasLayer}\n",
    "\n",
    "# 指定保存的模型文件路径\n",
    "model_path = '/Users/yuu/Downloads/matdisk/ssfr.h5'  # 替换为您的模型文件的实际路径\n",
    "\n",
    "# 加载模型并传递自定义对象字典\n",
    "final_model = tf.keras.models.load_model(model_path,custom_objects)\n"
   ]
  },
  {
   "cell_type": "code",
   "execution_count": 6,
   "metadata": {},
   "outputs": [],
   "source": [
    "import pandas as pd"
   ]
  },
  {
   "cell_type": "code",
   "execution_count": 9,
   "metadata": {},
   "outputs": [],
   "source": [
    "file3=h5py.File('new_test_3w.h5','r')\n",
    "sfr_true=np.array(file3['sfr_fib_p50']).reshape(-1,1)\n",
    "lgm_true=np.array(file3['lgm_fib_p50']).reshape(-1,1)\n",
    "img3=file3['processed_images']\n",
    "\n",
    "import matplotlib.pyplot as plt\n",
    "# 计算裁剪区域的左上角和右下角坐标\n",
    "original_length=152\n",
    "target_length=64\n",
    "left = (original_length - target_length) // 2\n",
    "top = (original_length - target_length) // 2\n",
    "right = left + target_length\n",
    "bottom = top + target_length\n",
    "\n",
    "cropped_images = []\n",
    "for image_array in img3:\n",
    "    # 裁剪并添加到裁剪后的图像数组\n",
    "    cropped_image = image_array[:, top:bottom, left:right]\n",
    "    cropped_images.append(cropped_image)\n",
    "\n",
    "\n",
    "img_rgb3=[dr2_rgb(i,['g','r','z'])  for i in cropped_images]\n",
    "img_rgb3=np.array(img_rgb3)"
   ]
  },
  {
   "cell_type": "code",
   "execution_count": 10,
   "metadata": {},
   "outputs": [],
   "source": [
    "data_test=pd.DataFrame({\n",
    "    'sfr_fib_p50':file3['sfr_fib_p50'],\n",
    "    'lgm_fib_p50':file3['lgm_fib_p50'],\n",
    "    'ra_1':file3['ra_1'],\n",
    "    'dec_1':file3['dec_1']\n",
    "})"
   ]
  },
  {
   "cell_type": "code",
   "execution_count": 11,
   "metadata": {},
   "outputs": [],
   "source": [
    "image_merged=[]\n",
    "tmp_list=[]\n",
    "for i in range(len(img_rgb3)):\n",
    "    image_merged.append(img_rgb3[i])\n",
    "    tmp_list.append(i)\n",
    "        \n",
    "tmp_dict={'images':image_merged}\n",
    "df_01=pd.DataFrame(tmp_dict)\n",
    "data_test['img']=df_01\n"
   ]
  },
  {
   "cell_type": "code",
   "execution_count": 13,
   "metadata": {},
   "outputs": [
    {
     "data": {
      "text/plain": [
       "Index(['GroupID', 'GroupSize', 'Separation', 'bptclass', 'brickid',\n",
       "       'cModelMag_r', 'col1', 'dec_1', 'dec_2', 'e_bv_sfd', 'ebv', 'fiberid',\n",
       "       'index', 'lgm_fib_p50', 'lgm_tot_p50', 'mjd', 'modelMag_r', 'objid',\n",
       "       'oh_p50', 'petroMag_g', 'petroMag_r', 'plateid', 'primtarget', 'ra_1',\n",
       "       'ra_2', 'reliable', 'sectarget', 'sfr_fib_p50', 'sfr_tot_p50',\n",
       "       'snMedian_g', 'snMedian_r', 'sn_median', 'source_type', 'specObjID',\n",
       "       'specsfr_fib_p50', 'specsfr_tot_p50', 'v_disp', 'v_disp_err', 'z',\n",
       "       'z_err', 'z_spec', 'z_warning', 'circles_radius', 'oval_distances',\n",
       "       'circle_arc', 'partition'],\n",
       "      dtype='object')"
      ]
     },
     "execution_count": 13,
     "metadata": {},
     "output_type": "execute_result"
    }
   ],
   "source": [
    "df_test"
   ]
  },
  {
   "cell_type": "code",
   "execution_count": 24,
   "metadata": {},
   "outputs": [],
   "source": [
    "df_test=pd.read_csv('../test_3w.csv')\n",
    "merged_test = df_test.merge(data_test, on=['ra_1', 'dec_1'], how='inner')"
   ]
  },
  {
   "cell_type": "code",
   "execution_count": 25,
   "metadata": {},
   "outputs": [],
   "source": [
    "merged_test['type'], mapping_index = pd.factorize(merged_test['source_type'])\n"
   ]
  },
  {
   "cell_type": "code",
   "execution_count": 26,
   "metadata": {},
   "outputs": [
    {
     "data": {
      "text/plain": [
       "0        0\n",
       "1        0\n",
       "2        0\n",
       "3        0\n",
       "4        0\n",
       "        ..\n",
       "29995    0\n",
       "29996    2\n",
       "29997    0\n",
       "29998    1\n",
       "29999    0\n",
       "Name: type, Length: 30000, dtype: int64"
      ]
     },
     "execution_count": 26,
     "metadata": {},
     "output_type": "execute_result"
    }
   ],
   "source": [
    "merged_test['type'] "
   ]
  },
  {
   "cell_type": "code",
   "execution_count": 27,
   "metadata": {},
   "outputs": [
    {
     "name": "stderr",
     "output_type": "stream",
     "text": [
      "2023-10-12 22:20:55.043360: W tensorflow/tsl/platform/profile_utils/cpu_utils.cc:128] Failed to get CPU frequency: 0 Hz\n"
     ]
    },
    {
     "name": "stdout",
     "output_type": "stream",
     "text": [
      "938/938 [==============================] - 72s 76ms/step\n"
     ]
    }
   ],
   "source": [
    "y=final_model.predict({\n",
    "    'image_input': img_rgb3, 'data': np.array(merged_test['type'])\n",
    "})\n",
    "# y_df=pd.DataFrame()\n",
    "# y_df['lgm']=pd.DataFrame(y[0])\n",
    "# y_df['sfr']=pd.DataFrame(y[1])\n",
    "# y_df"
   ]
  },
  {
   "cell_type": "code",
   "execution_count": 28,
   "metadata": {},
   "outputs": [],
   "source": [
    "lgm_pred=np.array(y[:,0]).reshape(-1, 1)\n",
    "lgm_pred=scaler_lgm_train.inverse_transform(lgm_pred)\n",
    "\n",
    "sfr_pred=np.array(y[:,1]).reshape(-1, 1)\n",
    "sfr_pred=scaler_sfr_train.inverse_transform(sfr_pred)"
   ]
  },
  {
   "cell_type": "code",
   "execution_count": 29,
   "metadata": {},
   "outputs": [],
   "source": [
    "def count_mae(n1,n2):\n",
    "    # 计算绝对差值\n",
    "    n1=np.array(n1)\n",
    "    n2=np.array(n2)\n",
    "    absolute_errors = np.abs(n1 - n2)\n",
    "\n",
    "    # 计算平均绝对误差（MAE）\n",
    "    mae = np.mean(absolute_errors)\n",
    "\n",
    "    print(\"MAE:\", mae)"
   ]
  },
  {
   "cell_type": "code",
   "execution_count": 31,
   "metadata": {},
   "outputs": [
    {
     "name": "stdout",
     "output_type": "stream",
     "text": [
      "MAE for lgm:\n",
      "MAE: 0.1602182359736501\n"
     ]
    }
   ],
   "source": [
    "print(\"MAE for lgm:\")\n",
    "count_mae(lgm_true,lgm_pred)"
   ]
  },
  {
   "cell_type": "code",
   "execution_count": 32,
   "metadata": {},
   "outputs": [
    {
     "name": "stdout",
     "output_type": "stream",
     "text": [
      "LGM的MSE是:0.055769189673352024,RMSE是0.23615501195899277\n"
     ]
    }
   ],
   "source": [
    "mse = np.mean((np.array(lgm_true) - np.array(lgm_pred)) ** 2)\n",
    "rmse=np.sqrt(mse)\n",
    "print(f'LGM的MSE是:{mse},RMSE是{rmse}')"
   ]
  },
  {
   "cell_type": "code",
   "execution_count": 33,
   "metadata": {},
   "outputs": [
    {
     "name": "stdout",
     "output_type": "stream",
     "text": [
      "MAE for sfr:\n",
      "MAE: 0.38783465626445324\n"
     ]
    }
   ],
   "source": [
    "print(\"MAE for sfr:\")\n",
    "count_mae(sfr_true,sfr_pred)"
   ]
  },
  {
   "cell_type": "code",
   "execution_count": 34,
   "metadata": {},
   "outputs": [
    {
     "name": "stdout",
     "output_type": "stream",
     "text": [
      "SFR的MSE是:0.2899775953994372,RMSE是0.5384956781622645\n"
     ]
    }
   ],
   "source": [
    "mse = np.mean((np.array(sfr_true) - np.array(sfr_pred)) ** 2)\n",
    "rmse=np.sqrt(mse)\n",
    "print(f'SFR的MSE是:{mse},RMSE是{rmse}')"
   ]
  },
  {
   "cell_type": "code",
   "execution_count": null,
   "metadata": {},
   "outputs": [],
   "source": [
    "import matplotlib.pyplot as plt\n",
    "\n",
    "# 示例数据（假设df和df_real是你的DataFrame）\n",
    "data_pred_lgm = lgm_pred\n",
    "data_real_lgm = lgm_true\n",
    "\n",
    "# 创建图形\n",
    "fig, ax = plt.subplots(figsize=(8, 6))\n",
    "\n",
    "# 绘制lgm的直方图\n",
    "ax.hist(data_pred_lgm, histtype='step', lw=3, density=True, range=(8, 11), label='prediction')\n",
    "ax.hist(data_real_lgm, histtype='step', lw=3, density=True, range=(8, 11), label='true')\n",
    "ax.set_xlabel(r'$\\log(M_{\\rm star}/M_{\\odot})$')\n",
    "ax.set_ylabel('Normalized Counts', fontsize=16)\n",
    "ax.legend(loc=2, fontsize=12)\n",
    "ax.set_xlim(8, 11)\n",
    "ax.set_ylim(0, 1)\n",
    "\n",
    "for spine in ax.spines.values():\n",
    "    spine.set_linewidth(1)\n",
    "    spine.set_color('black')\n",
    "\n",
    "ax.grid(False)    \n",
    "\n",
    "# 调整图形之间的间距\n",
    "plt.tight_layout()\n",
    "plt.savefig('lgm直方图.png')\n",
    "# 显示图形\n",
    "plt.show()\n"
   ]
  },
  {
   "cell_type": "code",
   "execution_count": null,
   "metadata": {},
   "outputs": [],
   "source": [
    "import matplotlib.pyplot as plt\n",
    "\n",
    "# 示例数据（假设df和df_real是你的DataFrame）\n",
    "data_pred_sfr = sfr_true\n",
    "data_real_sfr = sfr_pred\n",
    "# 创建图形\n",
    "fig, ax = plt.subplots(figsize=(8, 6))\n",
    "\n",
    "# 绘制sfr的直方图\n",
    "ax.hist(data_pred_sfr, histtype='step', lw=3, density=True, range=(-2.5, 1), label='prediction')\n",
    "ax.hist(data_real_sfr, histtype='step', lw=3, density=True, range=(-2.5, 1), label='true')\n",
    "ax.set_xlabel(r'$\\log(\\rm{SFR}/[M_\\odot\\rm{yr}^{-1}])$')\n",
    "ax.set_ylabel('Normalized Counts', fontsize=16)\n",
    "ax.legend(loc=2, fontsize=12)\n",
    "ax.set_xlim(-2.5, 1)\n",
    "ax.set_ylim(0, 1)\n",
    "\n",
    "for spine in ax.spines.values():\n",
    "    spine.set_linewidth(1)\n",
    "    spine.set_color('black')\n",
    "\n",
    "ax.grid(False)\n",
    "\n",
    "# 调整图形之间的间距\n",
    "plt.tight_layout()\n",
    "plt.savefig('sfr直方图.png')\n",
    "# 显示图形\n",
    "plt.show()\n"
   ]
  },
  {
   "cell_type": "code",
   "execution_count": 25,
   "metadata": {},
   "outputs": [],
   "source": [
    "from tensorflow.keras.models import load_model, save_model\n",
    "\n",
    "final_model.save('mnt/final.h5')"
   ]
  },
  {
   "cell_type": "code",
   "execution_count": null,
   "metadata": {},
   "outputs": [],
   "source": [
    "y=final_model.predict(img_rgb2)\n",
    "y_df=pd.DataFrame()\n",
    "y_df['lgm']=pd.DataFrame(y[0])\n",
    "y_df['sfr']=pd.DataFrame(y[1])\n",
    "y_df"
   ]
  },
  {
   "cell_type": "code",
   "execution_count": null,
   "metadata": {},
   "outputs": [],
   "source": [
    "def count_mae(n1,n2):\n",
    "    # 计算绝对差值\n",
    "    n1=np.array(n1)\n",
    "    n2=np.array(n2)\n",
    "    absolute_errors = np.abs(n1 - n2)\n",
    "\n",
    "    # 计算平均绝对误差（MAE）\n",
    "    mae = np.mean(absolute_errors)\n",
    "\n",
    "    print(\"MAE:\", mae)"
   ]
  },
  {
   "cell_type": "code",
   "execution_count": null,
   "metadata": {},
   "outputs": [],
   "source": [
    "print(\"MAE for lgm:\")\n",
    "count_mae(lgm_true,lgm_pred)"
   ]
  }
 ],
 "metadata": {
  "kernelspec": {
   "display_name": "tmp-env",
   "language": "python",
   "name": "sblb"
  },
  "language_info": {
   "codemirror_mode": {
    "name": "ipython",
    "version": 3
   },
   "file_extension": ".py",
   "mimetype": "text/x-python",
   "name": "python",
   "nbconvert_exporter": "python",
   "pygments_lexer": "ipython3",
   "version": "3.8.17"
  }
 },
 "nbformat": 4,
 "nbformat_minor": 4
}
