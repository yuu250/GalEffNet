{
 "cells": [
  {
   "cell_type": "code",
   "execution_count": 1,
   "metadata": {},
   "outputs": [],
   "source": [
    "import tensorflow as tf\n",
    "import tensorflow_hub as hub\n",
    "\n",
    "custom_objects = {'KerasLayer': hub.KerasLayer}\n",
    "\n",
    "model_path = \"galeffnet.h5\"  \n",
    "\n",
    "final_model = tf.keras.models.load_model(model_path,custom_objects)\n"
   ]
  },
  {
   "cell_type": "code",
   "execution_count": 2,
   "metadata": {},
   "outputs": [],
   "source": [
    "import pandas as pd\n",
    "import h5py\n",
    "import to_rgb\n",
    "import numpy as np \n",
    "file3=h5py.File('test_set.h5','r')\n",
    "img3=file3['processed_images']\n",
    "\n",
    "import matplotlib.pyplot as plt\n",
    "original_length=152\n",
    "target_length=64\n",
    "left = (original_length - target_length) // 2\n",
    "top = (original_length - target_length) // 2\n",
    "right = left + target_length\n",
    "bottom = top + target_length\n",
    "\n",
    "cropped_images = []\n",
    "for image_array in img3:\n",
    "    cropped_image = image_array[:, top:bottom, left:right]\n",
    "    cropped_images.append(cropped_image)\n",
    "\n",
    "\n",
    "img_rgb3=[to_rgb.dr2_rgb(i,['g','r','z'])  for i in cropped_images]\n",
    "img_rgb3=np.array(img_rgb3)"
   ]
  },
  {
   "cell_type": "code",
   "execution_count": 3,
   "metadata": {},
   "outputs": [],
   "source": [
    "ssfr_true=np.array(file3['specsfr_fib_p50']).reshape(-1,1)\n",
    "lgm_true=np.array(file3['lgm_fib_p50']).reshape(-1,1)"
   ]
  },
  {
   "cell_type": "code",
   "execution_count": 4,
   "metadata": {},
   "outputs": [],
   "source": [
    "import pickle \n",
    "with open('scaler_sfr.pkl', 'rb') as file:\n",
    "    scaler_sfr = pickle.load(file)\n",
    "\n",
    "with open('scaler_lgm.pkl', 'rb') as file:\n",
    "    scaler_lgm = pickle.load(file)\n"
   ]
  },
  {
   "cell_type": "code",
   "execution_count": 5,
   "metadata": {},
   "outputs": [],
   "source": [
    "y=final_model.predict(np.array(img_rgb3))\n",
    "lgm_pred=np.array(y[0])\n",
    "lgm_pred=scaler_lgm.inverse_transform(lgm_pred)\n",
    "\n",
    "sfr_pred=np.array(y[1])\n",
    "sfr_pred=scaler_sfr.inverse_transform(sfr_pred)"
   ]
  },
  {
   "cell_type": "code",
   "execution_count": 6,
   "metadata": {},
   "outputs": [],
   "source": [
    "df=pd.DataFrame()\n",
    "df['ssfr']=pd.DataFrame(sfr_pred)\n",
    "df['lgm']=pd.DataFrame(lgm_pred)"
   ]
  },
  {
   "cell_type": "code",
   "execution_count": 7,
   "metadata": {},
   "outputs": [],
   "source": [
    "def count_mae(n1,n2):\n",
    "    n1=np.array(n1)\n",
    "    n2=np.array(n2)\n",
    "    absolute_errors = np.abs(n1 - n2)\n",
    "\n",
    "    mae = np.mean(absolute_errors)\n",
    "\n",
    "    print(\"MAE:\", mae)"
   ]
  },
  {
   "cell_type": "code",
   "execution_count": 8,
   "metadata": {},
   "outputs": [
    {
     "name": "stdout",
     "output_type": "stream",
     "text": [
      "MAE for lgm:\n",
      "MAE: 0.14751796854267374\n"
     ]
    }
   ],
   "source": [
    "print(\"MAE for lgm:\")\n",
    "count_mae(lgm_true,lgm_pred)"
   ]
  },
  {
   "cell_type": "code",
   "execution_count": 10,
   "metadata": {},
   "outputs": [
    {
     "name": "stdout",
     "output_type": "stream",
     "text": [
      "LGM: MSE：0.04924270269524266,RMSE：0.22190696855944533,SD：0.2178983054407689\n"
     ]
    }
   ],
   "source": [
    "sd = np.std(np.array(lgm_true) - np.array(lgm_pred))\n",
    "mse = np.mean((np.array(lgm_true) - np.array(lgm_pred)) ** 2)\n",
    "rmse=np.sqrt(mse)\n",
    "print(f'LGM: MSE：{mse},RMSE：{rmse},SD：{sd}')"
   ]
  },
  {
   "cell_type": "code",
   "execution_count": 12,
   "metadata": {},
   "outputs": [
    {
     "name": "stdout",
     "output_type": "stream",
     "text": [
      "LGM fout：0.1293\n"
     ]
    }
   ],
   "source": [
    "import numpy as np\n",
    "\n",
    "true_values = lgm_true\n",
    "predicted_values = df['lgm']\n",
    "count_condition_met = 0\n",
    "\n",
    "for real, predicted in zip(true_values, predicted_values):\n",
    "    #ratio = predicted / real\n",
    "    \n",
    "    if abs(real-predicted) > 0.3:\n",
    "        count_condition_met += 1\n",
    "\n",
    "percentage_condition_met = (count_condition_met / len(true_values)) \n",
    "\n",
    "print(f\"LGM fout：{percentage_condition_met}\")\n",
    "\n"
   ]
  },
  {
   "cell_type": "code",
   "execution_count": 25,
   "metadata": {},
   "outputs": [
    {
     "name": "stdout",
     "output_type": "stream",
     "text": [
      "LGM median：0.022099506835937532\n"
     ]
    }
   ],
   "source": [
    "true_values = np.array(lgm_true)\n",
    "true_values = true_values.reshape(-1)\n",
    "predicted_values = np.array(df['lgm'])\n",
    "\n",
    "m=np.median((predicted_values-true_values))\n",
    "print(f\"LGM median：{m}\")"
   ]
  },
  {
   "cell_type": "code",
   "execution_count": 33,
   "metadata": {},
   "outputs": [
    {
     "name": "stdout",
     "output_type": "stream",
     "text": [
      "MAE for ssfr:\n",
      "MAE: 0.29499949855242713\n"
     ]
    }
   ],
   "source": [
    "print(\"MAE for ssfr:\")\n",
    "count_mae(ssfr_true,sfr_pred)"
   ]
  },
  {
   "cell_type": "code",
   "execution_count": 30,
   "metadata": {},
   "outputs": [
    {
     "name": "stdout",
     "output_type": "stream",
     "text": [
      "sSFR MSE:0.17055504599679752,RMSE:0.41298310618813155,SD:0.40985196449311884\n"
     ]
    }
   ],
   "source": [
    "sd = np.std(np.array(ssfr_true) - np.array(sfr_pred))\n",
    "mse = np.mean((np.array(ssfr_true) - np.array(sfr_pred)) ** 2)\n",
    "rmse=np.sqrt(mse)\n",
    "print(f'sSFR MSE:{mse},RMSE:{rmse},SD:{sd}')"
   ]
  },
  {
   "cell_type": "code",
   "execution_count": 31,
   "metadata": {},
   "outputs": [
    {
     "name": "stdout",
     "output_type": "stream",
     "text": [
      "sSFR fout：0.3595333333333333\n"
     ]
    }
   ],
   "source": [
    "import numpy as np\n",
    "\n",
    "true_values = ssfr_true\n",
    "predicted_values = df['ssfr']\n",
    "count_condition_met = 0\n",
    "\n",
    "for real, predicted in zip(true_values, predicted_values):\n",
    "    #ratio = predicted / real\n",
    "    \n",
    "    if abs(real-predicted) > 0.3:\n",
    "        count_condition_met += 1\n",
    "\n",
    "percentage_condition_met = (count_condition_met / len(true_values)) \n",
    "\n",
    "print(f\"sSFR fout：{percentage_condition_met}\")\n",
    "\n"
   ]
  },
  {
   "cell_type": "code",
   "execution_count": 32,
   "metadata": {},
   "outputs": [
    {
     "name": "stdout",
     "output_type": "stream",
     "text": [
      "sSFR median：-0.015964782104492592\n"
     ]
    }
   ],
   "source": [
    "true_values = np.array(ssfr_true)\n",
    "true_values = true_values.reshape(-1)\n",
    "predicted_values = np.array(df['ssfr'])\n",
    "\n",
    "m=np.median((predicted_values-true_values))\n",
    "print(f\"sSFR median：{m}\")"
   ]
  },
  {
   "cell_type": "code",
   "execution_count": null,
   "metadata": {},
   "outputs": [],
   "source": []
  }
 ],
 "metadata": {
  "kernelspec": {
   "display_name": "tf",
   "language": "python",
   "name": "tf"
  },
  "language_info": {
   "codemirror_mode": {
    "name": "ipython",
    "version": 3
   },
   "file_extension": ".py",
   "mimetype": "text/x-python",
   "name": "python",
   "nbconvert_exporter": "python",
   "pygments_lexer": "ipython3",
   "version": "3.8.18"
  }
 },
 "nbformat": 4,
 "nbformat_minor": 2
}
